{
 "cells": [
  {
   "cell_type": "markdown",
   "metadata": {},
   "source": [
    "# Описание проекта\n",
    "\n",
    "Разработать вопросно-ответную систему на основе доĸумента."
   ]
  },
  {
   "cell_type": "markdown",
   "metadata": {},
   "source": [
    "Технические проблемы проекта:\n",
    "1. Плохо построенный алгоритм векторного поиска, который не учитывает весь обьем токенов контекста. Потерянные токены ухудшают качество предсказаний модели. Метод векторного поиска ответов в контексте не учитывает односложные ответы типа \"Да/Нет\"\n",
    "2. Недостаточный подбор гиперпараметров модели BERT.\n",
    "3. Не все гипотезы подтверждены\\опровергнуты экспериментально\n",
    "4. Работающее решение использует ресурсы Kaggle"
   ]
  },
  {
   "cell_type": "markdown",
   "metadata": {},
   "source": [
    "# Загрузка даных"
   ]
  },
  {
   "cell_type": "code",
   "execution_count": 254,
   "metadata": {},
   "outputs": [],
   "source": [
    "import json\n",
    "import pandas as pd\n",
    "import numpy as np\n",
    "import re\n",
    "import ast\n",
    "import matplotlib.pyplot as plt\n",
    "import seaborn as sns\n",
    "from collections import Counter\n",
    "from tqdm.notebook import tqdm\n",
    "import warnings\n",
    "warnings.simplefilter(\"ignore\")\n",
    "from datasets import load_dataset\n",
    "\n",
    "\n",
    "# Проверяем и загружаем spaCy для русского и английского языков\n",
    "try:\n",
    "    import spacy\n",
    "    from spacy.lang.ru.examples import sentences \n",
    "    nlp_ru = spacy.load(\"ru_core_news_sm\", disable=['parser', 'ner'])\n",
    "except:\n",
    "    print('Скачиваю русский spaCy...')\n",
    "    ! python -m spacy download -q ru_core_news_sm\n",
    "    import spacy\n",
    "    from spacy.lang.ru.examples import sentences \n",
    "    nlp_ru = spacy.load(\"ru_core_news_sm\", disable=['parser', 'ner'])\n",
    "\n",
    "try:\n",
    "    nlp_en = spacy.load(\"en_core_web_sm\", disable=['parser', 'ner'])\n",
    "except:\n",
    "    print('Скачиваю английский spaCy...')\n",
    "    ! python -m spacy download -q en_core_web_sm\n",
    "    nlp_en = spacy.load(\"en_core_web_sm\", disable=['parser', 'ner'])\n",
    "\n",
    "# Проверяем и загружаем NLTK stopwords\n",
    "try:\n",
    "    from nltk.corpus import stopwords\n",
    "except:\n",
    "    print('Устанавливаю nltk...')\n",
    "    ! pip install -q nltk\n",
    "    import nltk\n",
    "    nltk.download('stopwords')\n",
    "\n",
    "# Импортируем PyTorch и Transformers\n",
    "import torch\n",
    "import transformers\n",
    "from transformers import DistilBertForQuestionAnswering, AutoTokenizer, DistilBertModel, AdamW\n",
    "from torch.utils.data import DataLoader, RandomSampler, TensorDataset\n",
    "from sklearn.metrics.pairwise import cosine_similarity\n",
    "from sklearn.metrics import accuracy_score, f1_score\n",
    "\n",
    "# Установка и импорт Optuna\n",
    "try:\n",
    "    import optuna\n",
    "except:\n",
    "    print('Устанавливаю optuna...')\n",
    "    ! pip install -q optuna\n",
    "    import optuna\n"
   ]
  },
  {
   "cell_type": "code",
   "execution_count": 255,
   "metadata": {},
   "outputs": [
    {
     "data": {
      "text/plain": [
       "{'idx': 0,\n",
       " 'passage': {'text': '(1) Но люди не могут существовать без природы, поэтому в парке стояли железобетонные скамейки — деревянные моментально ломали. (2) В парке бегали ребятишки, водилась шпана, которая развлекалась игрой в карты, пьянкой, драками, «иногда насмерть». (3) «Имали они тут и девок...» (4) Верховодил шпаной Артемка-мыло, с вспененной белой головой. (5) Людочка сколько ни пыталась усмирить лохмотья на буйной голове Артемки, ничего у неё не получалось. (6) Его «кудри, издали напоминавшие мыльную пену, изблизя оказались что липкие рожки из вокзальной столовой — сварили их, бросили комком в пустую тарелку, так они, слипшиеся, неподъёмно и лежали. (7) Да и не ради причёски приходил парень к Людочке. (8) Как только её руки становились занятыми ножницами и расчёской, Артемка начинал хватать её за разные места. (9) Людочка сначала увёртывалась от хватких рук Артемки, а когда не помогло, стукнула его машинкой по голове и пробила до крови, пришлось лить йод на голову «ухажористого человека». (10) Артемка заулюлюкал и со свистом стал ловить воздух. (11) С тех пор «домогания свои хулиганские прекратил», более того, шпане повелел Людочку не трогать.',\n",
       "  'questions': [{'question': 'Где бегала шпана?',\n",
       "    'answers': [{'idx': 0, 'text': 'В парке.', 'label': 1},\n",
       "     {'idx': 1, 'text': 'В лесу.', 'label': 0},\n",
       "     {'idx': 2, 'text': 'Около подъезда.', 'label': 0}],\n",
       "    'idx': 0},\n",
       "   {'question': 'Почему Люда ударила Артема?',\n",
       "    'answers': [{'idx': 3, 'text': 'Он к ней приставал.', 'label': 1},\n",
       "     {'idx': 4, 'text': 'Он ее оскорбил.', 'label': 0},\n",
       "     {'idx': 5, 'text': 'Машинка случайно упала.', 'label': 0}],\n",
       "    'idx': 1},\n",
       "   {'question': 'Как развлекались в парке ребята?',\n",
       "    'answers': [{'idx': 6,\n",
       "      'text': 'Бегали в библиотеку и обратно.',\n",
       "      'label': 0},\n",
       "     {'idx': 7,\n",
       "      'text': 'Пили, картёжничали, дрались и снимали девок.',\n",
       "      'label': 1},\n",
       "     {'idx': 8, 'text': 'Выгуливали собак.', 'label': 0},\n",
       "     {'idx': 9, 'text': 'Учились.', 'label': 0},\n",
       "     {'idx': 10,\n",
       "      'text': 'Развлекались игрой в карты, пьянкой, драками, снимали они тут и девок.',\n",
       "      'label': 1}],\n",
       "    'idx': 2},\n",
       "   {'question': 'Что происходило, когда Людочка бралась подстригать Артёмку?',\n",
       "    'answers': [{'idx': 11, 'text': 'Артёмка приставал к ней.', 'label': 1},\n",
       "     {'idx': 12, 'text': 'Они играли.', 'label': 0},\n",
       "     {'idx': 13,\n",
       "      'text': 'Она его подстригала и они прощались до следующего раза.',\n",
       "      'label': 0},\n",
       "     {'idx': 14,\n",
       "      'text': 'Артёмка начинал хватать её за разные места.',\n",
       "      'label': 1},\n",
       "     {'idx': 15, 'text': 'Артёмка тут же обрастал снова.', 'label': 0}],\n",
       "    'idx': 3},\n",
       "   {'question': 'Какие волосы росли на голове у Артемки-мыла?',\n",
       "    'answers': [{'idx': 16, 'text': 'Рыжие.', 'label': 0},\n",
       "     {'idx': 17, 'text': 'Кудри.', 'label': 1},\n",
       "     {'idx': 18, 'text': 'Ломкие.', 'label': 0},\n",
       "     {'idx': 19, 'text': 'Прямые.', 'label': 0},\n",
       "     {'idx': 20, 'text': 'Вьющиеся.', 'label': 1}],\n",
       "    'idx': 4},\n",
       "   {'question': 'На что были похожи волосы предводителя шпаны?',\n",
       "    'answers': [{'idx': 21, 'text': 'Слипшиеся макароны.', 'label': 1},\n",
       "     {'idx': 22, 'text': 'Рожки из заводской столовой.', 'label': 1},\n",
       "     {'idx': 23, 'text': 'Железобетонные скамейки.', 'label': 0},\n",
       "     {'idx': 24, 'text': 'Деревянные скамейки.', 'label': 0},\n",
       "     {'idx': 25, 'text': 'Разные места.', 'label': 0}],\n",
       "    'idx': 5},\n",
       "   {'question': 'Как развлекались ребята, которыми верховодил Артемка?',\n",
       "    'answers': [{'idx': 26, 'text': 'Ели липкие рожки.', 'label': 0},\n",
       "     {'idx': 27, 'text': 'Стригли Артемку.', 'label': 0},\n",
       "     {'idx': 28, 'text': 'Играли в карты.', 'label': 1},\n",
       "     {'idx': 29, 'text': 'Играли в ножницы и расчёску.', 'label': 0},\n",
       "     {'idx': 30, 'text': 'Пили и дрались.', 'label': 1}],\n",
       "    'idx': 6},\n",
       "   {'question': 'Кто хватал Людочку за разные места?',\n",
       "    'answers': [{'idx': 31,\n",
       "      'text': 'Парень со вспененной белой головой.',\n",
       "      'label': 1},\n",
       "     {'idx': 32, 'text': 'Предводитель местной шпаны.', 'label': 1},\n",
       "     {'idx': 33, 'text': 'Ребятишки, которые бегали в парке.', 'label': 0},\n",
       "     {'idx': 34, 'text': 'Железобетонные лавочки.', 'label': 0},\n",
       "     {'idx': 35, 'text': 'Девки.', 'label': 0}],\n",
       "    'idx': 7},\n",
       "   {'question': 'Что перестал делать Артемка, когда Людочка разбила ему голову до крови?',\n",
       "    'answers': [{'idx': 36, 'text': 'Домогаться до Людочки.', 'label': 1},\n",
       "     {'idx': 37, 'text': 'Приставать к Людочке.', 'label': 1},\n",
       "     {'idx': 38, 'text': 'Ломать деревянные скамейки в парке.', 'label': 0},\n",
       "     {'idx': 39, 'text': 'Кормить Людочку рожками.', 'label': 0},\n",
       "     {'idx': 40, 'text': 'Стричь Людочку.', 'label': 0}],\n",
       "    'idx': 8}]}}"
      ]
     },
     "execution_count": 255,
     "metadata": {},
     "output_type": "execute_result"
    }
   ],
   "source": [
    "# Смотрим на структуру данных\n",
    "with open('train.jsonl', 'r', encoding='utf-8') as file:\n",
    "    json_data = [json.loads(line) for line in file]\n",
    "json_data[0]"
   ]
  },
  {
   "cell_type": "code",
   "execution_count": 256,
   "metadata": {},
   "outputs": [],
   "source": [
    "#Напишем функцию, чтобы привести строки json в удобный для анализа DataFrame.\n",
    "def todataframe(json_data):\n",
    "    with open(json_data, 'r', encoding='utf-8') as file:\n",
    "        json_data = [json.loads(line) for line in file]\n",
    "\n",
    "    data = []\n",
    "    # Извлечение данных из json-строк в список словарей\n",
    "    for item in json_data:\n",
    "        passage = item['passage']\n",
    "        for question in passage['questions']:\n",
    "            for answer in question['answers']:\n",
    "                    columns = {\n",
    "                        'id': item['idx'],\n",
    "                        'num_sentences': len(re.findall(r'\\(\\d+\\)', passage['text'])), # Отдельно выведем количество предложений для каждого текста\n",
    "                        'text': passage['text'],\n",
    "                        'q_id': question['idx'],\n",
    "                        'question': question['question'],\n",
    "                        'a_id': answer['idx'],\n",
    "                        'answer': answer['text']\n",
    "                    }\n",
    "                    # Для test данных\n",
    "                    if 'label' in answer:\n",
    "                        columns['label'] = answer['label']\n",
    "                    data.append(columns)\n",
    "    return pd.DataFrame(data)"
   ]
  },
  {
   "cell_type": "code",
   "execution_count": 257,
   "metadata": {},
   "outputs": [],
   "source": [
    "train = todataframe('train.jsonl')\n",
    "test = todataframe('test.jsonl')\n",
    "val = todataframe('val.jsonl')"
   ]
  },
  {
   "cell_type": "markdown",
   "metadata": {},
   "source": [
    "# Эксплораторный анализ данных"
   ]
  },
  {
   "cell_type": "markdown",
   "metadata": {},
   "source": [
    "## Первичный осмотр данных"
   ]
  },
  {
   "cell_type": "code",
   "execution_count": 258,
   "metadata": {},
   "outputs": [
    {
     "name": "stdout",
     "output_type": "stream",
     "text": [
      "Отрывков в тренировочной, тестовой и валидационной выборках:  500 322 100\n"
     ]
    }
   ],
   "source": [
    "print('Отрывков в тренировочной, тестовой и валидационной выборках: ', \n",
    "      train['id'].unique().shape[0], \n",
    "      test['id'].unique().shape[0], \n",
    "      val['id'].unique().shape[0])\n",
    "# напишем функцию для первичного осмотра данных\n",
    "def analiz(data):\n",
    "    display(data.head())\n",
    "    display(data.describe())\n",
    "    display(data.info())\n",
    "    print('Строк с пустыми значениям: ', (data.isna().all(axis=1)).sum())\n",
    "    print('Дуликатов в датасете: ', data[data.duplicated()].shape[0])\n",
    "    print('Пропущенных значений в столбцах: ', data.isna().sum())\n",
    "    print('Данные содержат английские слова:', any(data[data.columns[3:]]\n",
    "                                    .apply(lambda x: bool(re.compile(r'[a-zA-Z]')\n",
    "                                    .search(str(x))))))\n",
    "    print(\"Максимальное кол-во символов в текстах:\", data['text'].str.len().max())\n"
   ]
  },
  {
   "cell_type": "code",
   "execution_count": 259,
   "metadata": {},
   "outputs": [
    {
     "data": {
      "text/html": [
       "<div>\n",
       "<style scoped>\n",
       "    .dataframe tbody tr th:only-of-type {\n",
       "        vertical-align: middle;\n",
       "    }\n",
       "\n",
       "    .dataframe tbody tr th {\n",
       "        vertical-align: top;\n",
       "    }\n",
       "\n",
       "    .dataframe thead th {\n",
       "        text-align: right;\n",
       "    }\n",
       "</style>\n",
       "<table border=\"1\" class=\"dataframe\">\n",
       "  <thead>\n",
       "    <tr style=\"text-align: right;\">\n",
       "      <th></th>\n",
       "      <th>id</th>\n",
       "      <th>num_sentences</th>\n",
       "      <th>text</th>\n",
       "      <th>q_id</th>\n",
       "      <th>question</th>\n",
       "      <th>a_id</th>\n",
       "      <th>answer</th>\n",
       "      <th>label</th>\n",
       "    </tr>\n",
       "  </thead>\n",
       "  <tbody>\n",
       "    <tr>\n",
       "      <th>0</th>\n",
       "      <td>0</td>\n",
       "      <td>11</td>\n",
       "      <td>(1) Но люди не могут существовать без природы,...</td>\n",
       "      <td>0</td>\n",
       "      <td>Где бегала шпана?</td>\n",
       "      <td>0</td>\n",
       "      <td>В парке.</td>\n",
       "      <td>1</td>\n",
       "    </tr>\n",
       "    <tr>\n",
       "      <th>1</th>\n",
       "      <td>0</td>\n",
       "      <td>11</td>\n",
       "      <td>(1) Но люди не могут существовать без природы,...</td>\n",
       "      <td>0</td>\n",
       "      <td>Где бегала шпана?</td>\n",
       "      <td>1</td>\n",
       "      <td>В лесу.</td>\n",
       "      <td>0</td>\n",
       "    </tr>\n",
       "    <tr>\n",
       "      <th>2</th>\n",
       "      <td>0</td>\n",
       "      <td>11</td>\n",
       "      <td>(1) Но люди не могут существовать без природы,...</td>\n",
       "      <td>0</td>\n",
       "      <td>Где бегала шпана?</td>\n",
       "      <td>2</td>\n",
       "      <td>Около подъезда.</td>\n",
       "      <td>0</td>\n",
       "    </tr>\n",
       "    <tr>\n",
       "      <th>3</th>\n",
       "      <td>0</td>\n",
       "      <td>11</td>\n",
       "      <td>(1) Но люди не могут существовать без природы,...</td>\n",
       "      <td>1</td>\n",
       "      <td>Почему Люда ударила Артема?</td>\n",
       "      <td>3</td>\n",
       "      <td>Он к ней приставал.</td>\n",
       "      <td>1</td>\n",
       "    </tr>\n",
       "    <tr>\n",
       "      <th>4</th>\n",
       "      <td>0</td>\n",
       "      <td>11</td>\n",
       "      <td>(1) Но люди не могут существовать без природы,...</td>\n",
       "      <td>1</td>\n",
       "      <td>Почему Люда ударила Артема?</td>\n",
       "      <td>4</td>\n",
       "      <td>Он ее оскорбил.</td>\n",
       "      <td>0</td>\n",
       "    </tr>\n",
       "  </tbody>\n",
       "</table>\n",
       "</div>"
      ],
      "text/plain": [
       "   id  num_sentences                                               text  q_id  \\\n",
       "0   0             11  (1) Но люди не могут существовать без природы,...     0   \n",
       "1   0             11  (1) Но люди не могут существовать без природы,...     0   \n",
       "2   0             11  (1) Но люди не могут существовать без природы,...     0   \n",
       "3   0             11  (1) Но люди не могут существовать без природы,...     1   \n",
       "4   0             11  (1) Но люди не могут существовать без природы,...     1   \n",
       "\n",
       "                      question  a_id               answer  label  \n",
       "0            Где бегала шпана?     0             В парке.      1  \n",
       "1            Где бегала шпана?     1              В лесу.      0  \n",
       "2            Где бегала шпана?     2      Около подъезда.      0  \n",
       "3  Почему Люда ударила Артема?     3  Он к ней приставал.      1  \n",
       "4  Почему Люда ударила Артема?     4      Он ее оскорбил.      0  "
      ]
     },
     "metadata": {},
     "output_type": "display_data"
    },
    {
     "data": {
      "text/html": [
       "<div>\n",
       "<style scoped>\n",
       "    .dataframe tbody tr th:only-of-type {\n",
       "        vertical-align: middle;\n",
       "    }\n",
       "\n",
       "    .dataframe tbody tr th {\n",
       "        vertical-align: top;\n",
       "    }\n",
       "\n",
       "    .dataframe thead th {\n",
       "        text-align: right;\n",
       "    }\n",
       "</style>\n",
       "<table border=\"1\" class=\"dataframe\">\n",
       "  <thead>\n",
       "    <tr style=\"text-align: right;\">\n",
       "      <th></th>\n",
       "      <th>id</th>\n",
       "      <th>num_sentences</th>\n",
       "      <th>q_id</th>\n",
       "      <th>a_id</th>\n",
       "      <th>label</th>\n",
       "    </tr>\n",
       "  </thead>\n",
       "  <tbody>\n",
       "    <tr>\n",
       "      <th>count</th>\n",
       "      <td>11950.000000</td>\n",
       "      <td>11950.000000</td>\n",
       "      <td>11950.000000</td>\n",
       "      <td>11950.000000</td>\n",
       "      <td>11950.000000</td>\n",
       "    </tr>\n",
       "    <tr>\n",
       "      <th>mean</th>\n",
       "      <td>220.043180</td>\n",
       "      <td>13.794728</td>\n",
       "      <td>1418.993389</td>\n",
       "      <td>5974.500000</td>\n",
       "      <td>0.450377</td>\n",
       "    </tr>\n",
       "    <tr>\n",
       "      <th>std</th>\n",
       "      <td>148.128668</td>\n",
       "      <td>2.585996</td>\n",
       "      <td>840.269779</td>\n",
       "      <td>3449.812193</td>\n",
       "      <td>0.497552</td>\n",
       "    </tr>\n",
       "    <tr>\n",
       "      <th>min</th>\n",
       "      <td>0.000000</td>\n",
       "      <td>7.000000</td>\n",
       "      <td>0.000000</td>\n",
       "      <td>0.000000</td>\n",
       "      <td>0.000000</td>\n",
       "    </tr>\n",
       "    <tr>\n",
       "      <th>25%</th>\n",
       "      <td>77.000000</td>\n",
       "      <td>12.000000</td>\n",
       "      <td>676.000000</td>\n",
       "      <td>2987.250000</td>\n",
       "      <td>0.000000</td>\n",
       "    </tr>\n",
       "    <tr>\n",
       "      <th>50%</th>\n",
       "      <td>209.000000</td>\n",
       "      <td>14.000000</td>\n",
       "      <td>1400.000000</td>\n",
       "      <td>5974.500000</td>\n",
       "      <td>0.000000</td>\n",
       "    </tr>\n",
       "    <tr>\n",
       "      <th>75%</th>\n",
       "      <td>347.000000</td>\n",
       "      <td>15.000000</td>\n",
       "      <td>2142.000000</td>\n",
       "      <td>8961.750000</td>\n",
       "      <td>1.000000</td>\n",
       "    </tr>\n",
       "    <tr>\n",
       "      <th>max</th>\n",
       "      <td>499.000000</td>\n",
       "      <td>21.000000</td>\n",
       "      <td>2896.000000</td>\n",
       "      <td>11949.000000</td>\n",
       "      <td>1.000000</td>\n",
       "    </tr>\n",
       "  </tbody>\n",
       "</table>\n",
       "</div>"
      ],
      "text/plain": [
       "                 id  num_sentences          q_id          a_id         label\n",
       "count  11950.000000   11950.000000  11950.000000  11950.000000  11950.000000\n",
       "mean     220.043180      13.794728   1418.993389   5974.500000      0.450377\n",
       "std      148.128668       2.585996    840.269779   3449.812193      0.497552\n",
       "min        0.000000       7.000000      0.000000      0.000000      0.000000\n",
       "25%       77.000000      12.000000    676.000000   2987.250000      0.000000\n",
       "50%      209.000000      14.000000   1400.000000   5974.500000      0.000000\n",
       "75%      347.000000      15.000000   2142.000000   8961.750000      1.000000\n",
       "max      499.000000      21.000000   2896.000000  11949.000000      1.000000"
      ]
     },
     "metadata": {},
     "output_type": "display_data"
    },
    {
     "name": "stdout",
     "output_type": "stream",
     "text": [
      "<class 'pandas.core.frame.DataFrame'>\n",
      "RangeIndex: 11950 entries, 0 to 11949\n",
      "Data columns (total 8 columns):\n",
      " #   Column         Non-Null Count  Dtype \n",
      "---  ------         --------------  ----- \n",
      " 0   id             11950 non-null  int64 \n",
      " 1   num_sentences  11950 non-null  int64 \n",
      " 2   text           11950 non-null  object\n",
      " 3   q_id           11950 non-null  int64 \n",
      " 4   question       11950 non-null  object\n",
      " 5   a_id           11950 non-null  int64 \n",
      " 6   answer         11950 non-null  object\n",
      " 7   label          11950 non-null  int64 \n",
      "dtypes: int64(5), object(3)\n",
      "memory usage: 747.0+ KB\n"
     ]
    },
    {
     "data": {
      "text/plain": [
       "None"
      ]
     },
     "metadata": {},
     "output_type": "display_data"
    },
    {
     "name": "stdout",
     "output_type": "stream",
     "text": [
      "Строк с пустыми значениям:  0\n",
      "Дуликатов в датасете:  0\n",
      "Пропущенных значений в столбцах:  id               0\n",
      "num_sentences    0\n",
      "text             0\n",
      "q_id             0\n",
      "question         0\n",
      "a_id             0\n",
      "answer           0\n",
      "label            0\n",
      "dtype: int64\n",
      "Данные содержат английские слова: True\n",
      "Максимальное кол-во символов в текстах: 3399\n"
     ]
    }
   ],
   "source": [
    "analiz(train)"
   ]
  },
  {
   "cell_type": "code",
   "execution_count": 260,
   "metadata": {},
   "outputs": [
    {
     "data": {
      "text/html": [
       "<div>\n",
       "<style scoped>\n",
       "    .dataframe tbody tr th:only-of-type {\n",
       "        vertical-align: middle;\n",
       "    }\n",
       "\n",
       "    .dataframe tbody tr th {\n",
       "        vertical-align: top;\n",
       "    }\n",
       "\n",
       "    .dataframe thead th {\n",
       "        text-align: right;\n",
       "    }\n",
       "</style>\n",
       "<table border=\"1\" class=\"dataframe\">\n",
       "  <thead>\n",
       "    <tr style=\"text-align: right;\">\n",
       "      <th></th>\n",
       "      <th>id</th>\n",
       "      <th>num_sentences</th>\n",
       "      <th>text</th>\n",
       "      <th>q_id</th>\n",
       "      <th>question</th>\n",
       "      <th>a_id</th>\n",
       "      <th>answer</th>\n",
       "    </tr>\n",
       "  </thead>\n",
       "  <tbody>\n",
       "    <tr>\n",
       "      <th>0</th>\n",
       "      <td>0</td>\n",
       "      <td>14</td>\n",
       "      <td>\"(1) Издательство Viking Press совместно с ком...</td>\n",
       "      <td>0</td>\n",
       "      <td>О чем дневник Анны Франк?</td>\n",
       "      <td>0</td>\n",
       "      <td>Дневник об отметках Анны.</td>\n",
       "    </tr>\n",
       "    <tr>\n",
       "      <th>1</th>\n",
       "      <td>0</td>\n",
       "      <td>14</td>\n",
       "      <td>\"(1) Издательство Viking Press совместно с ком...</td>\n",
       "      <td>0</td>\n",
       "      <td>О чем дневник Анны Франк?</td>\n",
       "      <td>1</td>\n",
       "      <td>Дневник о школьных годах девочки Анны.</td>\n",
       "    </tr>\n",
       "    <tr>\n",
       "      <th>2</th>\n",
       "      <td>0</td>\n",
       "      <td>14</td>\n",
       "      <td>\"(1) Издательство Viking Press совместно с ком...</td>\n",
       "      <td>0</td>\n",
       "      <td>О чем дневник Анны Франк?</td>\n",
       "      <td>2</td>\n",
       "      <td>О жизни еврейской девочки во время гонения евр...</td>\n",
       "    </tr>\n",
       "    <tr>\n",
       "      <th>3</th>\n",
       "      <td>0</td>\n",
       "      <td>14</td>\n",
       "      <td>\"(1) Издательство Viking Press совместно с ком...</td>\n",
       "      <td>0</td>\n",
       "      <td>О чем дневник Анны Франк?</td>\n",
       "      <td>3</td>\n",
       "      <td>Анна описывала свою жизнь и жизнь близких, ког...</td>\n",
       "    </tr>\n",
       "    <tr>\n",
       "      <th>4</th>\n",
       "      <td>0</td>\n",
       "      <td>14</td>\n",
       "      <td>\"(1) Издательство Viking Press совместно с ком...</td>\n",
       "      <td>1</td>\n",
       "      <td>Каким будет приложение Anne Frank App?</td>\n",
       "      <td>4</td>\n",
       "      <td>Приложение будет платным.</td>\n",
       "    </tr>\n",
       "  </tbody>\n",
       "</table>\n",
       "</div>"
      ],
      "text/plain": [
       "   id  num_sentences                                               text  q_id  \\\n",
       "0   0             14  \"(1) Издательство Viking Press совместно с ком...     0   \n",
       "1   0             14  \"(1) Издательство Viking Press совместно с ком...     0   \n",
       "2   0             14  \"(1) Издательство Viking Press совместно с ком...     0   \n",
       "3   0             14  \"(1) Издательство Viking Press совместно с ком...     0   \n",
       "4   0             14  \"(1) Издательство Viking Press совместно с ком...     1   \n",
       "\n",
       "                                 question  a_id  \\\n",
       "0               О чем дневник Анны Франк?     0   \n",
       "1               О чем дневник Анны Франк?     1   \n",
       "2               О чем дневник Анны Франк?     2   \n",
       "3               О чем дневник Анны Франк?     3   \n",
       "4  Каким будет приложение Anne Frank App?     4   \n",
       "\n",
       "                                              answer  \n",
       "0                          Дневник об отметках Анны.  \n",
       "1             Дневник о школьных годах девочки Анны.  \n",
       "2  О жизни еврейской девочки во время гонения евр...  \n",
       "3  Анна описывала свою жизнь и жизнь близких, ког...  \n",
       "4                          Приложение будет платным.  "
      ]
     },
     "metadata": {},
     "output_type": "display_data"
    },
    {
     "data": {
      "text/html": [
       "<div>\n",
       "<style scoped>\n",
       "    .dataframe tbody tr th:only-of-type {\n",
       "        vertical-align: middle;\n",
       "    }\n",
       "\n",
       "    .dataframe tbody tr th {\n",
       "        vertical-align: top;\n",
       "    }\n",
       "\n",
       "    .dataframe thead th {\n",
       "        text-align: right;\n",
       "    }\n",
       "</style>\n",
       "<table border=\"1\" class=\"dataframe\">\n",
       "  <thead>\n",
       "    <tr style=\"text-align: right;\">\n",
       "      <th></th>\n",
       "      <th>id</th>\n",
       "      <th>num_sentences</th>\n",
       "      <th>q_id</th>\n",
       "      <th>a_id</th>\n",
       "    </tr>\n",
       "  </thead>\n",
       "  <tbody>\n",
       "    <tr>\n",
       "      <th>count</th>\n",
       "      <td>7614.000000</td>\n",
       "      <td>7614.000000</td>\n",
       "      <td>7614.000000</td>\n",
       "      <td>7614.000000</td>\n",
       "    </tr>\n",
       "    <tr>\n",
       "      <th>mean</th>\n",
       "      <td>143.212503</td>\n",
       "      <td>13.910428</td>\n",
       "      <td>892.102180</td>\n",
       "      <td>3806.500000</td>\n",
       "    </tr>\n",
       "    <tr>\n",
       "      <th>std</th>\n",
       "      <td>98.071988</td>\n",
       "      <td>2.714995</td>\n",
       "      <td>525.375897</td>\n",
       "      <td>2198.116808</td>\n",
       "    </tr>\n",
       "    <tr>\n",
       "      <th>min</th>\n",
       "      <td>0.000000</td>\n",
       "      <td>9.000000</td>\n",
       "      <td>0.000000</td>\n",
       "      <td>0.000000</td>\n",
       "    </tr>\n",
       "    <tr>\n",
       "      <th>25%</th>\n",
       "      <td>50.000000</td>\n",
       "      <td>12.000000</td>\n",
       "      <td>430.000000</td>\n",
       "      <td>1903.250000</td>\n",
       "    </tr>\n",
       "    <tr>\n",
       "      <th>50%</th>\n",
       "      <td>135.500000</td>\n",
       "      <td>14.000000</td>\n",
       "      <td>886.500000</td>\n",
       "      <td>3806.500000</td>\n",
       "    </tr>\n",
       "    <tr>\n",
       "      <th>75%</th>\n",
       "      <td>234.000000</td>\n",
       "      <td>15.000000</td>\n",
       "      <td>1344.750000</td>\n",
       "      <td>5709.750000</td>\n",
       "    </tr>\n",
       "    <tr>\n",
       "      <th>max</th>\n",
       "      <td>321.000000</td>\n",
       "      <td>20.000000</td>\n",
       "      <td>1812.000000</td>\n",
       "      <td>7613.000000</td>\n",
       "    </tr>\n",
       "  </tbody>\n",
       "</table>\n",
       "</div>"
      ],
      "text/plain": [
       "                id  num_sentences         q_id         a_id\n",
       "count  7614.000000    7614.000000  7614.000000  7614.000000\n",
       "mean    143.212503      13.910428   892.102180  3806.500000\n",
       "std      98.071988       2.714995   525.375897  2198.116808\n",
       "min       0.000000       9.000000     0.000000     0.000000\n",
       "25%      50.000000      12.000000   430.000000  1903.250000\n",
       "50%     135.500000      14.000000   886.500000  3806.500000\n",
       "75%     234.000000      15.000000  1344.750000  5709.750000\n",
       "max     321.000000      20.000000  1812.000000  7613.000000"
      ]
     },
     "metadata": {},
     "output_type": "display_data"
    },
    {
     "name": "stdout",
     "output_type": "stream",
     "text": [
      "<class 'pandas.core.frame.DataFrame'>\n",
      "RangeIndex: 7614 entries, 0 to 7613\n",
      "Data columns (total 7 columns):\n",
      " #   Column         Non-Null Count  Dtype \n",
      "---  ------         --------------  ----- \n",
      " 0   id             7614 non-null   int64 \n",
      " 1   num_sentences  7614 non-null   int64 \n",
      " 2   text           7614 non-null   object\n",
      " 3   q_id           7614 non-null   int64 \n",
      " 4   question       7614 non-null   object\n",
      " 5   a_id           7614 non-null   int64 \n",
      " 6   answer         7614 non-null   object\n",
      "dtypes: int64(4), object(3)\n",
      "memory usage: 416.5+ KB\n"
     ]
    },
    {
     "data": {
      "text/plain": [
       "None"
      ]
     },
     "metadata": {},
     "output_type": "display_data"
    },
    {
     "name": "stdout",
     "output_type": "stream",
     "text": [
      "Строк с пустыми значениям:  0\n",
      "Дуликатов в датасете:  0\n",
      "Пропущенных значений в столбцах:  id               0\n",
      "num_sentences    0\n",
      "text             0\n",
      "q_id             0\n",
      "question         0\n",
      "a_id             0\n",
      "answer           0\n",
      "dtype: int64\n",
      "Данные содержат английские слова: True\n",
      "Максимальное кол-во символов в текстах: 2769\n"
     ]
    }
   ],
   "source": [
    "analiz(test)"
   ]
  },
  {
   "cell_type": "code",
   "execution_count": 261,
   "metadata": {},
   "outputs": [
    {
     "data": {
      "text/html": [
       "<div>\n",
       "<style scoped>\n",
       "    .dataframe tbody tr th:only-of-type {\n",
       "        vertical-align: middle;\n",
       "    }\n",
       "\n",
       "    .dataframe tbody tr th {\n",
       "        vertical-align: top;\n",
       "    }\n",
       "\n",
       "    .dataframe thead th {\n",
       "        text-align: right;\n",
       "    }\n",
       "</style>\n",
       "<table border=\"1\" class=\"dataframe\">\n",
       "  <thead>\n",
       "    <tr style=\"text-align: right;\">\n",
       "      <th></th>\n",
       "      <th>id</th>\n",
       "      <th>num_sentences</th>\n",
       "      <th>text</th>\n",
       "      <th>q_id</th>\n",
       "      <th>question</th>\n",
       "      <th>a_id</th>\n",
       "      <th>answer</th>\n",
       "      <th>label</th>\n",
       "    </tr>\n",
       "  </thead>\n",
       "  <tbody>\n",
       "    <tr>\n",
       "      <th>0</th>\n",
       "      <td>0</td>\n",
       "      <td>12</td>\n",
       "      <td>(1) Самый первый «остров» Архипелага возник в ...</td>\n",
       "      <td>0</td>\n",
       "      <td>Почему Солженицына перевозили спецконвоем?</td>\n",
       "      <td>0</td>\n",
       "      <td>Так перевозили особо важных заключенных.</td>\n",
       "      <td>1</td>\n",
       "    </tr>\n",
       "    <tr>\n",
       "      <th>1</th>\n",
       "      <td>0</td>\n",
       "      <td>12</td>\n",
       "      <td>(1) Самый первый «остров» Архипелага возник в ...</td>\n",
       "      <td>0</td>\n",
       "      <td>Почему Солженицына перевозили спецконвоем?</td>\n",
       "      <td>1</td>\n",
       "      <td>Потому, что был эмигрантом.</td>\n",
       "      <td>0</td>\n",
       "    </tr>\n",
       "    <tr>\n",
       "      <th>2</th>\n",
       "      <td>0</td>\n",
       "      <td>12</td>\n",
       "      <td>(1) Самый первый «остров» Архипелага возник в ...</td>\n",
       "      <td>0</td>\n",
       "      <td>Почему Солженицына перевозили спецконвоем?</td>\n",
       "      <td>2</td>\n",
       "      <td>Потому, что он сам вырыл себе землянку.</td>\n",
       "      <td>0</td>\n",
       "    </tr>\n",
       "    <tr>\n",
       "      <th>3</th>\n",
       "      <td>0</td>\n",
       "      <td>12</td>\n",
       "      <td>(1) Самый первый «остров» Архипелага возник в ...</td>\n",
       "      <td>0</td>\n",
       "      <td>Почему Солженицына перевозили спецконвоем?</td>\n",
       "      <td>3</td>\n",
       "      <td>Потому, что он побывал на пересылке Красная Пр...</td>\n",
       "      <td>0</td>\n",
       "    </tr>\n",
       "    <tr>\n",
       "      <th>4</th>\n",
       "      <td>0</td>\n",
       "      <td>12</td>\n",
       "      <td>(1) Самый первый «остров» Архипелага возник в ...</td>\n",
       "      <td>0</td>\n",
       "      <td>Почему Солженицына перевозили спецконвоем?</td>\n",
       "      <td>4</td>\n",
       "      <td>Потому, что он был особо важным заключённым и ...</td>\n",
       "      <td>1</td>\n",
       "    </tr>\n",
       "  </tbody>\n",
       "</table>\n",
       "</div>"
      ],
      "text/plain": [
       "   id  num_sentences                                               text  q_id  \\\n",
       "0   0             12  (1) Самый первый «остров» Архипелага возник в ...     0   \n",
       "1   0             12  (1) Самый первый «остров» Архипелага возник в ...     0   \n",
       "2   0             12  (1) Самый первый «остров» Архипелага возник в ...     0   \n",
       "3   0             12  (1) Самый первый «остров» Архипелага возник в ...     0   \n",
       "4   0             12  (1) Самый первый «остров» Архипелага возник в ...     0   \n",
       "\n",
       "                                     question  a_id  \\\n",
       "0  Почему Солженицына перевозили спецконвоем?     0   \n",
       "1  Почему Солженицына перевозили спецконвоем?     1   \n",
       "2  Почему Солженицына перевозили спецконвоем?     2   \n",
       "3  Почему Солженицына перевозили спецконвоем?     3   \n",
       "4  Почему Солженицына перевозили спецконвоем?     4   \n",
       "\n",
       "                                              answer  label  \n",
       "0           Так перевозили особо важных заключенных.      1  \n",
       "1                        Потому, что был эмигрантом.      0  \n",
       "2            Потому, что он сам вырыл себе землянку.      0  \n",
       "3  Потому, что он побывал на пересылке Красная Пр...      0  \n",
       "4  Потому, что он был особо важным заключённым и ...      1  "
      ]
     },
     "metadata": {},
     "output_type": "display_data"
    },
    {
     "data": {
      "text/html": [
       "<div>\n",
       "<style scoped>\n",
       "    .dataframe tbody tr th:only-of-type {\n",
       "        vertical-align: middle;\n",
       "    }\n",
       "\n",
       "    .dataframe tbody tr th {\n",
       "        vertical-align: top;\n",
       "    }\n",
       "\n",
       "    .dataframe thead th {\n",
       "        text-align: right;\n",
       "    }\n",
       "</style>\n",
       "<table border=\"1\" class=\"dataframe\">\n",
       "  <thead>\n",
       "    <tr style=\"text-align: right;\">\n",
       "      <th></th>\n",
       "      <th>id</th>\n",
       "      <th>num_sentences</th>\n",
       "      <th>q_id</th>\n",
       "      <th>a_id</th>\n",
       "      <th>label</th>\n",
       "    </tr>\n",
       "  </thead>\n",
       "  <tbody>\n",
       "    <tr>\n",
       "      <th>count</th>\n",
       "      <td>2235.000000</td>\n",
       "      <td>2235.000000</td>\n",
       "      <td>2235.000000</td>\n",
       "      <td>2235.000000</td>\n",
       "      <td>2235.000000</td>\n",
       "    </tr>\n",
       "    <tr>\n",
       "      <th>mean</th>\n",
       "      <td>49.764206</td>\n",
       "      <td>13.876063</td>\n",
       "      <td>262.685459</td>\n",
       "      <td>1117.000000</td>\n",
       "      <td>0.444295</td>\n",
       "    </tr>\n",
       "    <tr>\n",
       "      <th>std</th>\n",
       "      <td>28.456195</td>\n",
       "      <td>2.675084</td>\n",
       "      <td>154.312145</td>\n",
       "      <td>645.333247</td>\n",
       "      <td>0.496998</td>\n",
       "    </tr>\n",
       "    <tr>\n",
       "      <th>min</th>\n",
       "      <td>0.000000</td>\n",
       "      <td>8.000000</td>\n",
       "      <td>0.000000</td>\n",
       "      <td>0.000000</td>\n",
       "      <td>0.000000</td>\n",
       "    </tr>\n",
       "    <tr>\n",
       "      <th>25%</th>\n",
       "      <td>25.000000</td>\n",
       "      <td>13.000000</td>\n",
       "      <td>128.500000</td>\n",
       "      <td>558.500000</td>\n",
       "      <td>0.000000</td>\n",
       "    </tr>\n",
       "    <tr>\n",
       "      <th>50%</th>\n",
       "      <td>48.000000</td>\n",
       "      <td>13.000000</td>\n",
       "      <td>263.000000</td>\n",
       "      <td>1117.000000</td>\n",
       "      <td>0.000000</td>\n",
       "    </tr>\n",
       "    <tr>\n",
       "      <th>75%</th>\n",
       "      <td>75.000000</td>\n",
       "      <td>15.000000</td>\n",
       "      <td>395.000000</td>\n",
       "      <td>1675.500000</td>\n",
       "      <td>1.000000</td>\n",
       "    </tr>\n",
       "    <tr>\n",
       "      <th>max</th>\n",
       "      <td>99.000000</td>\n",
       "      <td>20.000000</td>\n",
       "      <td>528.000000</td>\n",
       "      <td>2234.000000</td>\n",
       "      <td>1.000000</td>\n",
       "    </tr>\n",
       "  </tbody>\n",
       "</table>\n",
       "</div>"
      ],
      "text/plain": [
       "                id  num_sentences         q_id         a_id        label\n",
       "count  2235.000000    2235.000000  2235.000000  2235.000000  2235.000000\n",
       "mean     49.764206      13.876063   262.685459  1117.000000     0.444295\n",
       "std      28.456195       2.675084   154.312145   645.333247     0.496998\n",
       "min       0.000000       8.000000     0.000000     0.000000     0.000000\n",
       "25%      25.000000      13.000000   128.500000   558.500000     0.000000\n",
       "50%      48.000000      13.000000   263.000000  1117.000000     0.000000\n",
       "75%      75.000000      15.000000   395.000000  1675.500000     1.000000\n",
       "max      99.000000      20.000000   528.000000  2234.000000     1.000000"
      ]
     },
     "metadata": {},
     "output_type": "display_data"
    },
    {
     "name": "stdout",
     "output_type": "stream",
     "text": [
      "<class 'pandas.core.frame.DataFrame'>\n",
      "RangeIndex: 2235 entries, 0 to 2234\n",
      "Data columns (total 8 columns):\n",
      " #   Column         Non-Null Count  Dtype \n",
      "---  ------         --------------  ----- \n",
      " 0   id             2235 non-null   int64 \n",
      " 1   num_sentences  2235 non-null   int64 \n",
      " 2   text           2235 non-null   object\n",
      " 3   q_id           2235 non-null   int64 \n",
      " 4   question       2235 non-null   object\n",
      " 5   a_id           2235 non-null   int64 \n",
      " 6   answer         2235 non-null   object\n",
      " 7   label          2235 non-null   int64 \n",
      "dtypes: int64(5), object(3)\n",
      "memory usage: 139.8+ KB\n"
     ]
    },
    {
     "data": {
      "text/plain": [
       "None"
      ]
     },
     "metadata": {},
     "output_type": "display_data"
    },
    {
     "name": "stdout",
     "output_type": "stream",
     "text": [
      "Строк с пустыми значениям:  0\n",
      "Дуликатов в датасете:  0\n",
      "Пропущенных значений в столбцах:  id               0\n",
      "num_sentences    0\n",
      "text             0\n",
      "q_id             0\n",
      "question         0\n",
      "a_id             0\n",
      "answer           0\n",
      "label            0\n",
      "dtype: int64\n",
      "Данные содержат английские слова: True\n",
      "Максимальное кол-во символов в текстах: 3323\n"
     ]
    }
   ],
   "source": [
    "analiz(val)"
   ]
  },
  {
   "cell_type": "markdown",
   "metadata": {},
   "source": [
    "### Вывод:\n",
    "\n",
    "Мы имеем пронумерованные по предложениям открывки содержащие латинские и кирилические символы с составленными по ним вопросами и вариантами ответов. У каждого ответа на вопрос есть булева-отметка('label'), скорее всего отвечающая за правильность ответа и являющаяся таргет-признаком.\n",
    "\n",
    "У каждого из текстовых данных есть уникальный идентификатор - idx. В ранее написанной функции мы выделили количество предложений в отрывках в отдельный столбец. Это должно помочь нам провести анализ данных. Во всех наборах данных содержатся как кирилические так и латинские символыю будет учитывать это при анализе и построении модели."
   ]
  },
  {
   "cell_type": "markdown",
   "metadata": {},
   "source": [
    "## Анализ распределения правильности ответов"
   ]
  },
  {
   "cell_type": "code",
   "execution_count": 262,
   "metadata": {},
   "outputs": [
    {
     "data": {
      "image/png": "[encoded data removed]",
      "text/plain": [
       "<Figure size 640x480 with 1 Axes>"
      ]
     },
     "metadata": {},
     "output_type": "display_data"
    }
   ],
   "source": [
    "sns.countplot(data=train, x='label')\n",
    "plt.title('Распределение правильности ответов')\n",
    "plt.xlabel('Правильность ответа')\n",
    "plt.ylabel('Количество')\n",
    "plt.show()"
   ]
  },
  {
   "cell_type": "markdown",
   "metadata": {},
   "source": [
    "### Вывод:\n",
    "\n",
    "В тренировочном наборе данных превалирует 0, значит правильных ответов больше чем неправильных."
   ]
  },
  {
   "cell_type": "markdown",
   "metadata": {},
   "source": [
    "## Количество ответов на вопросы."
   ]
  },
  {
   "cell_type": "code",
   "execution_count": 263,
   "metadata": {},
   "outputs": [
    {
     "data": {
      "image/png": "[encoded data removed]",
      "text/plain": [
       "<Figure size 600x400 with 1 Axes>"
      ]
     },
     "metadata": {},
     "output_type": "display_data"
    }
   ],
   "source": [
    "plt.figure(figsize=(6,4))\n",
    "train.groupby('q_id')['a_id'].count().plot(kind='hist')\n",
    "plt.title('Вопросы и количество ответов к ним')\n",
    "plt.xlabel('Количество ответов')\n",
    "plt.ylabel('Количество вопросов')\n",
    "plt.show()"
   ]
  },
  {
   "cell_type": "markdown",
   "metadata": {},
   "source": [
    "### Вывод:\n",
    "\n",
    "График показывает, что большинство вопросов содержат от 4 до 6 ответов на них. Также можно найти вопросы, у которых по 12 ответов. "
   ]
  },
  {
   "cell_type": "markdown",
   "metadata": {},
   "source": [
    "## Анализ влияния количества ответов на вероятность ответить правильно"
   ]
  },
  {
   "cell_type": "code",
   "execution_count": 264,
   "metadata": {},
   "outputs": [
    {
     "data": {
      "image/png": "[encoded data removed]",
      "text/plain": [
       "<Figure size 640x480 with 1 Axes>"
      ]
     },
     "metadata": {},
     "output_type": "display_data"
    }
   ],
   "source": [
    "#Сгруппируйте данные по q_id для определения количества ответов на каждый вопрос.\n",
    "grouped_data = train.groupby('q_id').agg(\n",
    "    total_answers=('id', 'count'),\n",
    "    incorrect_answers=('label', 'sum')\n",
    ")\n",
    "\n",
    "# Подсчитаем количество правильных ответов\n",
    "grouped_data['correct_answers'] = grouped_data['total_answers'] - grouped_data['incorrect_answers']\n",
    "\n",
    "#Для каждого вопроса рассчитайте вероятность выбора правильного ответа.\n",
    "grouped_data['probability_correct'] = grouped_data['incorrect_answers'] / grouped_data['total_answers']\n",
    "\n",
    "#Сгруппируйте данные по total_answers и рассчитайте среднюю вероятность выбора правильного ответа для каждого количества ответов.\n",
    "aggregated_data = grouped_data.groupby('total_answers').agg(\n",
    "    average_probability=('probability_correct', 'mean')\n",
    ").reset_index()\n",
    "\n",
    "\n",
    "plt.plot(aggregated_data['total_answers'], aggregated_data['average_probability'], marker='o')\n",
    "plt.xlabel('Количество ответов')\n",
    "plt.ylabel('Средняя вероятность правильного ответа')\n",
    "plt.title('Анализ влияния количества ответов на вероятность ответить правильно')\n",
    "plt.show()"
   ]
  },
  {
   "cell_type": "markdown",
   "metadata": {},
   "source": [
    "### Вывод\n",
    "\n",
    "Судя по построенному графику количество ответов на вопрос не увеличивает шансы ответить верно."
   ]
  },
  {
   "cell_type": "markdown",
   "metadata": {},
   "source": [
    "## Количество вопросов к отрывкам"
   ]
  },
  {
   "cell_type": "code",
   "execution_count": 265,
   "metadata": {},
   "outputs": [
    {
     "data": {
      "image/png": "[encoded data removed]",
      "text/plain": [
       "<Figure size 600x400 with 1 Axes>"
      ]
     },
     "metadata": {},
     "output_type": "display_data"
    }
   ],
   "source": [
    "plt.figure(figsize=(6,4))\n",
    "train.groupby('id')['q_id'].nunique().plot(kind='hist')\n",
    "plt.title('Отрывки и количество вопросов к ним')\n",
    "plt.xlabel('Количество вопросов')\n",
    "plt.ylabel('Количество отрывков')\n",
    "plt.show()"
   ]
  },
  {
   "cell_type": "markdown",
   "metadata": {},
   "source": [
    "К каждому в отрывку с среднем по 4-6 вопросов."
   ]
  },
  {
   "cell_type": "markdown",
   "metadata": {},
   "source": [
    "## Количество предложений в отрывках"
   ]
  },
  {
   "cell_type": "code",
   "execution_count": 266,
   "metadata": {},
   "outputs": [
    {
     "data": {
      "image/png": "[encoded data removed]",
      "text/plain": [
       "<Figure size 600x400 with 1 Axes>"
      ]
     },
     "metadata": {},
     "output_type": "display_data"
    }
   ],
   "source": [
    "plt.figure(figsize=(6,4))\n",
    "train['num_sentences'].plot(kind='hist')\n",
    "plt.title('Количество предложений в отрывках')\n",
    "plt.xlabel('Количество предложений')\n",
    "plt.ylabel('Количество отрывков')\n",
    "plt.show()"
   ]
  },
  {
   "cell_type": "markdown",
   "metadata": {},
   "source": [
    "### Вывод:\n",
    "\n",
    "В основном отрывки содержат 10-15 предложений."
   ]
  },
  {
   "cell_type": "markdown",
   "metadata": {},
   "source": [
    "## Анализ длины текстов и вопросов"
   ]
  },
  {
   "cell_type": "code",
   "execution_count": 267,
   "metadata": {},
   "outputs": [
    {
     "data": {
      "image/png": "[encoded data removed]",
      "text/plain": [
       "<Figure size 640x480 with 1 Axes>"
      ]
     },
     "metadata": {},
     "output_type": "display_data"
    }
   ],
   "source": [
    "train['text_length'] = train['text'].apply(len)\n",
    "train['question_length'] = train['question'].apply(len)\n",
    "train['answer_length'] = train['answer'].apply(len)\n",
    "\n",
    "\n",
    "# Визуализация распределения длин текстов и вопросов\n",
    "plt.hist(train['text_length'], bins=20, alpha=0.5, label='Отрывок')\n",
    "plt.hist(train['question_length'], bins=20, alpha=0.5, label='Вопрос')\n",
    "plt.hist(train['answer_length'], bins=20, alpha=0.2, label='Ответ')\n",
    "plt.legend(loc='upper right')\n",
    "plt.xlabel('Длина')\n",
    "plt.ylabel('Количество')\n",
    "plt.title('Распределение длин текстов и вопросов')\n",
    "plt.show()"
   ]
  },
  {
   "cell_type": "markdown",
   "metadata": {},
   "source": [
    "### Вывод:\n",
    "\n",
    "График позволяет визуализировать приблизительную длину текстов, вопросов и ответов на них. Так, длина отрывков обычно варирует в пределах 1000-1600 символов. Большая же часть задаваемых вопросов занимает до 200 символов. Ответов до 100, среди которых преобладают короткие ответы. Проверим информативность коротких ответов"
   ]
  },
  {
   "cell_type": "code",
   "execution_count": 268,
   "metadata": {},
   "outputs": [
    {
     "name": "stdout",
     "output_type": "stream",
     "text": [
      "Вопросов с длинной в один символ: 0\n",
      "Ответов с длинной в один символ: 2\n"
     ]
    },
    {
     "data": {
      "text/html": [
       "<div>\n",
       "<style scoped>\n",
       "    .dataframe tbody tr th:only-of-type {\n",
       "        vertical-align: middle;\n",
       "    }\n",
       "\n",
       "    .dataframe tbody tr th {\n",
       "        vertical-align: top;\n",
       "    }\n",
       "\n",
       "    .dataframe thead th {\n",
       "        text-align: right;\n",
       "    }\n",
       "</style>\n",
       "<table border=\"1\" class=\"dataframe\">\n",
       "  <thead>\n",
       "    <tr style=\"text-align: right;\">\n",
       "      <th></th>\n",
       "      <th>id</th>\n",
       "      <th>num_sentences</th>\n",
       "      <th>text</th>\n",
       "      <th>q_id</th>\n",
       "      <th>question</th>\n",
       "      <th>a_id</th>\n",
       "      <th>answer</th>\n",
       "      <th>label</th>\n",
       "      <th>text_length</th>\n",
       "      <th>question_length</th>\n",
       "      <th>answer_length</th>\n",
       "    </tr>\n",
       "  </thead>\n",
       "  <tbody>\n",
       "    <tr>\n",
       "      <th>3346</th>\n",
       "      <td>90</td>\n",
       "      <td>20</td>\n",
       "      <td>(1)Наукой заниматься трудно. (2)Это хорошо зна...</td>\n",
       "      <td>758</td>\n",
       "      <td>Почему заниматься наукой необходимо?</td>\n",
       "      <td>3346</td>\n",
       "      <td>.</td>\n",
       "      <td>1</td>\n",
       "      <td>2210</td>\n",
       "      <td>36</td>\n",
       "      <td>1</td>\n",
       "    </tr>\n",
       "    <tr>\n",
       "      <th>6713</th>\n",
       "      <td>241</td>\n",
       "      <td>16</td>\n",
       "      <td>\"(1) Бывший мэр Москвы Юрий Лужков занялся упр...</td>\n",
       "      <td>1579</td>\n",
       "      <td>Чем занимается бывший мэр Москвы Юрий Лужков?</td>\n",
       "      <td>6713</td>\n",
       "      <td>.</td>\n",
       "      <td>1</td>\n",
       "      <td>1395</td>\n",
       "      <td>45</td>\n",
       "      <td>1</td>\n",
       "    </tr>\n",
       "  </tbody>\n",
       "</table>\n",
       "</div>"
      ],
      "text/plain": [
       "       id  num_sentences                                               text  \\\n",
       "3346   90             20  (1)Наукой заниматься трудно. (2)Это хорошо зна...   \n",
       "6713  241             16  \"(1) Бывший мэр Москвы Юрий Лужков занялся упр...   \n",
       "\n",
       "      q_id                                       question  a_id answer  label  \\\n",
       "3346   758           Почему заниматься наукой необходимо?  3346      .      1   \n",
       "6713  1579  Чем занимается бывший мэр Москвы Юрий Лужков?  6713      .      1   \n",
       "\n",
       "      text_length  question_length  answer_length  \n",
       "3346         2210               36              1  \n",
       "6713         1395               45              1  "
      ]
     },
     "execution_count": 268,
     "metadata": {},
     "output_type": "execute_result"
    }
   ],
   "source": [
    "print('Вопросов с длинной в один символ:', len(train[train['question_length'] == 1]))\n",
    "print('Ответов с длинной в один символ:', len(train[train['answer_length'] == 1]))\n",
    "train[train['answer_length'] == 1]\n"
   ]
  },
  {
   "cell_type": "markdown",
   "metadata": {},
   "source": [
    "Кажется, это отсутствие ответа. Уберем такие строки их датасетов."
   ]
  },
  {
   "cell_type": "code",
   "execution_count": 269,
   "metadata": {},
   "outputs": [],
   "source": [
    "train = train[train['answer_length'] > 1]\n",
    "val = val[val['answer'].str.len() > 1]"
   ]
  },
  {
   "cell_type": "markdown",
   "metadata": {},
   "source": [
    "## Анализ взаимосвязи между длиной ответа и правильностью ответа"
   ]
  },
  {
   "cell_type": "code",
   "execution_count": 270,
   "metadata": {},
   "outputs": [
    {
     "data": {
      "image/png": "[encoded data removed]",
      "text/plain": [
       "<Figure size 800x600 with 1 Axes>"
      ]
     },
     "metadata": {},
     "output_type": "display_data"
    }
   ],
   "source": [
    "# Вычисляем корреляцию между 'label' и 'question_length'\n",
    "correlation = train['label'].corr(train['answer_length'])\n",
    "# Создаем график\n",
    "plt.figure(figsize=(8, 6))\n",
    "sns.scatterplot(x='label', y='answer_length', data=train)\n",
    "plt.title(f'Корреляция между длиной ответа и правильностью ответа: {correlation:.2f}')\n",
    "plt.xlabel('Label')\n",
    "plt.ylabel('Длина ответа')\n",
    "plt.show()"
   ]
  },
  {
   "cell_type": "markdown",
   "metadata": {},
   "source": [
    "### Вывод \n",
    "\n",
    "Видимая связь между длиной ответа и его правильностью отсустствует."
   ]
  },
  {
   "cell_type": "markdown",
   "metadata": {},
   "source": [
    "## Топ-10 слов"
   ]
  },
  {
   "cell_type": "markdown",
   "metadata": {},
   "source": [
    "Удалим все предлоги и лишние символы"
   ]
  },
  {
   "cell_type": "code",
   "execution_count": 271,
   "metadata": {},
   "outputs": [],
   "source": [
    "russian_stopwords = stopwords.words(\"russian\")\n",
    "english_stopwords = stopwords.words(\"english\")\n",
    "\n",
    "def clear_text(text):\n",
    "    text = re.sub(r\"(?:\\n|\\r)\", \" \", text)\n",
    "    text = re.sub(r\"[^а-яА-Яa-zA-Z]+\", \" \", text).strip().lower() # оставляет в тексте латинские и кирилические символы.\n",
    "    text = \" \".join([word for word in text.split() if word not in russian_stopwords])\n",
    "    text = \" \".join([word for word in text.split() if word not in english_stopwords])\n",
    "    text = \" \".join([word for word in text.split() if len(word) >= 2]) # удалим слова, которые короче 2 символов\n",
    "    return text\n",
    "\n",
    "columns = ['text', 'question', 'answer']\n",
    "# Создадим отдельный \n",
    "top_words = pd.DataFrame()\n",
    "for column in columns:\n",
    "    top_words[column] = train[column].apply(clear_text)\n"
   ]
  },
  {
   "cell_type": "code",
   "execution_count": 272,
   "metadata": {},
   "outputs": [
    {
     "data": {
      "image/png": "[encoded data removed]",
      "text/plain": [
       "<Figure size 640x480 with 1 Axes>"
      ]
     },
     "metadata": {},
     "output_type": "display_data"
    },
    {
     "data": {
      "image/png": "[encoded data removed]",
      "text/plain": [
       "<Figure size 640x480 with 1 Axes>"
      ]
     },
     "metadata": {},
     "output_type": "display_data"
    },
    {
     "data": {
      "image/png": "[encoded data removed]",
      "text/plain": [
       "<Figure size 640x480 with 1 Axes>"
      ]
     },
     "metadata": {},
     "output_type": "display_data"
    }
   ],
   "source": [
    "# Функция для нахождения наиболее частых слов\n",
    "def get_most_common_words(text, num=10):\n",
    "    words = Counter(\" \".join(text).split()).most_common(num)\n",
    "    return words\n",
    "\n",
    "# Преобразование данных в DataFrame для визуализации\n",
    "text = pd.DataFrame(get_most_common_words(top_words['text']), columns=['Слово', 'Частота'])\n",
    "questions = pd.DataFrame(get_most_common_words(top_words['question']), columns=['Слово', 'Частота'])\n",
    "answers = pd.DataFrame(get_most_common_words(top_words['answer']), columns=['Слово', 'Частота'])\n",
    "\n",
    "# Визуализируем топ-10 слов\n",
    "sns.barplot(x='Частота', y='Слово', data=text)\n",
    "plt.title('Топ-10 слов в отрывках')\n",
    "plt.show()\n",
    "\n",
    "sns.barplot(x='Частота', y='Слово', data=questions)\n",
    "plt.title('Топ-10 слов в вопросах')\n",
    "plt.show()\n",
    "\n",
    "sns.barplot(x='Частота', y='Слово', data=answers)\n",
    "plt.title('Топ-10 слов в ответах')\n",
    "plt.show()\n",
    "\n"
   ]
  },
  {
   "cell_type": "markdown",
   "metadata": {},
   "source": [
    "### Вывод \n",
    "\n",
    "Судя по представленным словам в графиках в текстах отрывков очень много исторического контекста - популярны слова 'год', 'время', частица 'это' может свидетельствовать о познавательном характере текстов."
   ]
  },
  {
   "cell_type": "markdown",
   "metadata": {},
   "source": [
    "## Общий вывод:\n",
    "\n",
    "Мы имеем пронумерованные по предложениям открывки содержащие латинские и кирилические символы с составленными по ним вопросами и вариантами ответов. У каждого ответа на вопрос есть метка ('label'), свидетельствующая о его правильности.\n",
    "\n",
    "* Дубликатов или полей с отсутствием данных не имеем.\n",
    "* У каждого из текстовых данных есть уникальный идентификатор.\n",
    "* В данных превалирует 0 значения признака 'label', то есть правильных ответов больше чем неправильных.\n",
    "* График показывает, что большинство вопросов содержат от 4 до 6 ответов на них. Также можно найти вопросы, у которых по вариантов 12 ответов. \n",
    "* К каждому в отрывку с чаще всего по 4-6 вопросов.\n",
    "* В основном отрывки содержат по 10-15 предложений.\n",
    "* Чаще всего на каждый отрывок приходится по 100 ответов на вопросы.\n",
    "* Длина отрывков обычно варирует в пределах 1000-1600 символов. Вопросы: до 200 символов. Ответы: до 100.\n",
    "* В поле ответов было обнаружено и удалено 2 аномалии.\n",
    "* Количество ответов на вопрос не увеличивает шансы ответить верно.\n",
    "* В данных нет линейной зависимости между количеством ответов и вероятностью ответить правильно.\n",
    "* Отрывки зачастую несут в себе исторический и познавательный контекст - популярны слова 'год', 'время', частица 'это' "
   ]
  },
  {
   "cell_type": "markdown",
   "metadata": {},
   "source": [
    "# Построение гипотез для решения задачи"
   ]
  },
  {
   "cell_type": "markdown",
   "metadata": {},
   "source": [
    "### Гипотеза 1\n",
    "\n",
    "Использование моделей, основанных на трансформерах которые хорошо работают с контекстуальным пониманием текстов, улучшит качество. \n",
    "Ответы ответы на вопросы занимают до 100 символов и в них нет связи между длиной ответа и его правильностью, они не копируют формулировки контекста. Ответы не односложны и требуют системы, способной понимать и интерпретировать контекст как вопроса, так и текста по которому он составлен для нахождения правильного ответа."
   ]
  },
  {
   "cell_type": "markdown",
   "metadata": {},
   "source": [
    "### Гипотеза 2\n",
    "\n",
    "Если не скрывать неправильные ответы - производительность модели будет лучше."
   ]
  },
  {
   "cell_type": "markdown",
   "metadata": {},
   "source": [
    "\n",
    "### Гипотеза 3 \n",
    "\n",
    "Мы предполагаем, что тренировочные данные размечены верно.\n"
   ]
  },
  {
   "cell_type": "markdown",
   "metadata": {},
   "source": [
    "### Гипотеза 4 \n",
    "\n",
    "Контекста модели всегла будет хватать чтобы при помощи док ответить на вопрос. \n",
    "Учитывая, что каждый документ содержит множество вопросов, относящихся к различным частям текста, важно, чтобы модель могла корректно понимать и интерпретировать контекст каждой части текста. Это необходимо для того, чтобы точно соотнести вопросы с соответствующими частями текста и более предоставить точные ответы. Не попадание в допустимый обьем токенов приведет к снижению точности предсказаний модели."
   ]
  },
  {
   "cell_type": "markdown",
   "metadata": {},
   "source": [
    "### Гипотеза 5\n",
    "\n",
    "Модель с поддержкой второго языка лучше. Данные содержат наряду с кирилицей латинские символы, точность модели будет повышена, если модель будет обучена и настроена на работу с двумя языками одновременно."
   ]
  },
  {
   "cell_type": "markdown",
   "metadata": {},
   "source": [
    "### Гипотеза 6\n",
    "\n",
    "Модель не может использоваться для важных задач из-за высокой вероятности галлюцинации. "
   ]
  },
  {
   "cell_type": "markdown",
   "metadata": {},
   "source": [
    "# Выбрать и обосновать метрики качества"
   ]
  },
  {
   "cell_type": "markdown",
   "metadata": {},
   "source": [
    "* Точность (Accuracy): Это базовая метрика, которая измеряет, насколько часто модель правильно идентифицирует начальную и конечную позиции ответа. Она может не полностью отражать качество ответов, особенно если ответы многословны или имеют несколько правильных формулировок.\n",
    "\n",
    "* F1-скор: Эта метрика учитывает и точность, и полноту ответов. В нашей задаче она особенно полезна, когда ответы на вопросы могут быть сформулированы различными способами.\n",
    "\n",
    "* Exact Match (EM): Эта метрика измеряет, насколько часто ответ модели точно совпадает с правильным ответом. Если ответ модели полностью совпадает с ожидаемым ответом, EM равно 1, иначе 0. Это строгая метрика, так как требует полного совпадения. В нашей задаче эту метрика НЕ будет работоспособна т.к. ответы почти никогда не совпадают с контекстом. Эту метрику мы использовать не будем."
   ]
  },
  {
   "cell_type": "markdown",
   "metadata": {},
   "source": [
    "# Разработать алгоритм\n"
   ]
  },
  {
   "cell_type": "markdown",
   "metadata": {},
   "source": [
    "Ответы представлены нам как строковый тип данных.\n",
    "Для обучения модели, которая хорошо понимает семантические особенности потребуется найти ответы в контексте с поледующим выделением токенов начала и конца ответа в контексте в отдельные столбцы.\n",
    "0. Токенизируем тексты и вопросы. Модели BERT предварительная обработка текста и лематизация не потребуется.\n",
    "1. Получение эмбеддингов ответа и контекста.\n",
    "2. Применяем векторный поиск наилучшего совпадения ответа в контексте.\n",
    "3. Преобразование найденных позиций в токенные позиции.\n",
    "4. Выделение найденных позиций в отдельные поля с правильными и неправильными ответам для последующего обучения на нем.\n",
    "\n",
    "Для данных шагов напишем отдельную функцию. Качество реализации алгоритма векторного поиска напрямую влияет на обучение модели."
   ]
  },
  {
   "cell_type": "markdown",
   "metadata": {},
   "source": [
    "## Токенизация и поиск ответов"
   ]
  },
  {
   "cell_type": "code",
   "execution_count": 273,
   "metadata": {},
   "outputs": [],
   "source": [
    "# Инициализация токенизатора и модели BERT\n",
    "tokenizer = AutoTokenizer.from_pretrained('distilbert-base-multilingual-cased')\n",
    "model = DistilBertModel.from_pretrained('distilbert-base-multilingual-cased')\n",
    "\n",
    "\n",
    "def get_embedding(text):\n",
    "    tokenized_text = tokenizer.tokenize(text)\n",
    "    max_length = 512\n",
    "    embeddings = []\n",
    "\n",
    "    # Если текст длиннее максимальной длины, разделяем его на две части. Соглашаясь с тем, что это может ухудшить поиск т.к. ответ может быть на границе \n",
    "    if len(tokenized_text) > max_length:\n",
    "        parts = [tokenized_text[:max_length], tokenized_text[max_length:2*max_length]]\n",
    "    else:\n",
    "        parts = [tokenized_text]\n",
    "\n",
    "    for part in parts:\n",
    "        truncated_text = tokenizer.convert_tokens_to_string(part)  # Преобразуем обратно в строку\n",
    "        inputs = tokenizer.encode_plus(truncated_text, return_tensors='pt', truncation=True, max_length=max_length)\n",
    "        outputs = model(**inputs)\n",
    "        embeddings.append(outputs.last_hidden_state.squeeze(0).detach().numpy())\n",
    "\n",
    "    # Объединяем эмбеддинги, если текст был разделен\n",
    "    if len(embeddings) > 1:\n",
    "        return np.concatenate(embeddings, axis=0)\n",
    "    else:\n",
    "        return embeddings[0]\n",
    "# Функция поиска совпадений ответов эмбедингов и эмбедингов контекста.\n",
    "def find_best_match(context_emb, answer_emb):\n",
    "    best_sim = -1\n",
    "    best_start = -1\n",
    "    best_end = -1\n",
    "\n",
    "    for start_idx in range(len(context_emb) - len(answer_emb)):\n",
    "        end_idx = start_idx + len(answer_emb)\n",
    "        context_slice = context_emb[start_idx:end_idx]\n",
    "        sim = cosine_similarity([context_slice.mean(axis=0)], [answer_emb.mean(axis=0)])[0][0]\n",
    "        if sim > best_sim:\n",
    "            best_sim = sim\n",
    "            best_start = start_idx\n",
    "            best_end = end_idx\n",
    "\n",
    "    return best_start, best_end\n",
    "\n",
    "# Определяем положение token_ids ответов в контексте\n",
    "def find_token(data):\n",
    "    data['context_tokens'] = [tokenizer.encode(text, add_special_tokens=False) for text in tqdm(data['text'], desc=\"Токенизация текстов\")]\n",
    "    data['question_tokens'] = [tokenizer.encode(text, add_special_tokens=False) for text in tqdm(data['question'], desc=\"Токенизация вопросов\")]\n",
    "    context_embeddings = {text: get_embedding(text) for text in tqdm(data['text'].unique(), desc=\"Эмбединг уникальных текстов\")}\n",
    "    answer_embeddings = {answer: get_embedding(answer) for answer in tqdm(data['answer'], desc=\"Эмбединг ответов\")}\n",
    "    \n",
    "    data['context_embedding'] = data['text'].map(context_embeddings)\n",
    "    data['answer_embedding'] = data['answer'].map(answer_embeddings)\n",
    "\n",
    "    data['correct_answer_tokens'] = pd.Series(dtype=object)\n",
    "    data['incorrect_answer_tokens'] = pd.Series(dtype=object)\n",
    "\n",
    "    for index, row in tqdm(data.iterrows(), total=data.shape[0], desc=\"Ищем ответы в контексте\"):\n",
    "        start, end = find_best_match(row['context_embedding'], row['answer_embedding'])\n",
    "        if 'label' in data.columns:\n",
    "            if row['label'] == 1:\n",
    "                data.at[index, 'correct_answer_tokens'] = (start, end)\n",
    "                data.at[index, 'incorrect_answer_tokens'] = None\n",
    "            else:\n",
    "                data.at[index, 'incorrect_answer_tokens'] = (start, end)\n",
    "                data.at[index, 'correct_answer_tokens'] = None\n",
    "        else:\n",
    "            # если 'label' отсутствует - для test выборки\n",
    "            data.at[index, 'correct_answer_tokens'] = (start, end)\n",
    "            data.at[index, 'incorrect_answer_tokens'] = None\n",
    "\n",
    "    data.drop(columns=['context_embedding', 'answer_embedding'], inplace=True)\n",
    "    return data\n",
    "\n"
   ]
  },
  {
   "cell_type": "markdown",
   "metadata": {},
   "source": [
    "**Результат работы функции по всем датасетам можно найти на личном репозитории в HuggingFace.**"
   ]
  },
  {
   "cell_type": "code",
   "execution_count": 274,
   "metadata": {},
   "outputs": [],
   "source": [
    "mybert = load_dataset(\"rvenie/mybert\")"
   ]
  },
  {
   "cell_type": "code",
   "execution_count": 275,
   "metadata": {},
   "outputs": [
    {
     "data": {
      "text/html": [
       "<div>\n",
       "<style scoped>\n",
       "    .dataframe tbody tr th:only-of-type {\n",
       "        vertical-align: middle;\n",
       "    }\n",
       "\n",
       "    .dataframe tbody tr th {\n",
       "        vertical-align: top;\n",
       "    }\n",
       "\n",
       "    .dataframe thead th {\n",
       "        text-align: right;\n",
       "    }\n",
       "</style>\n",
       "<table border=\"1\" class=\"dataframe\">\n",
       "  <thead>\n",
       "    <tr style=\"text-align: right;\">\n",
       "      <th></th>\n",
       "      <th>Unnamed: 0</th>\n",
       "      <th>id</th>\n",
       "      <th>num_sentences</th>\n",
       "      <th>text</th>\n",
       "      <th>q_id</th>\n",
       "      <th>question</th>\n",
       "      <th>a_id</th>\n",
       "      <th>answer</th>\n",
       "      <th>label</th>\n",
       "      <th>context_tokens</th>\n",
       "      <th>question_tokens</th>\n",
       "      <th>correct_answer_tokens</th>\n",
       "      <th>incorrect_answer_tokens</th>\n",
       "    </tr>\n",
       "  </thead>\n",
       "  <tbody>\n",
       "    <tr>\n",
       "      <th>0</th>\n",
       "      <td>0</td>\n",
       "      <td>0</td>\n",
       "      <td>11</td>\n",
       "      <td>(1) Но люди не могут существовать без природы,...</td>\n",
       "      <td>0</td>\n",
       "      <td>Где бегала шпана?</td>\n",
       "      <td>0</td>\n",
       "      <td>В парке.</td>\n",
       "      <td>1</td>\n",
       "      <td>[113, 122, 114, 19732, 28469, 10375, 22293, 10...</td>\n",
       "      <td>[512, 12265, 542, 48372, 10674, 13568, 14622, ...</td>\n",
       "      <td>(12, 18)</td>\n",
       "      <td>None</td>\n",
       "    </tr>\n",
       "    <tr>\n",
       "      <th>1</th>\n",
       "      <td>1</td>\n",
       "      <td>0</td>\n",
       "      <td>11</td>\n",
       "      <td>(1) Но люди не могут существовать без природы,...</td>\n",
       "      <td>0</td>\n",
       "      <td>Где бегала шпана?</td>\n",
       "      <td>1</td>\n",
       "      <td>В лесу.</td>\n",
       "      <td>0</td>\n",
       "      <td>[113, 122, 114, 19732, 28469, 10375, 22293, 10...</td>\n",
       "      <td>[512, 12265, 542, 48372, 10674, 13568, 14622, ...</td>\n",
       "      <td>None</td>\n",
       "      <td>(102, 108)</td>\n",
       "    </tr>\n",
       "    <tr>\n",
       "      <th>2</th>\n",
       "      <td>2</td>\n",
       "      <td>0</td>\n",
       "      <td>11</td>\n",
       "      <td>(1) Но люди не могут существовать без природы,...</td>\n",
       "      <td>0</td>\n",
       "      <td>Где бегала шпана?</td>\n",
       "      <td>2</td>\n",
       "      <td>Около подъезда.</td>\n",
       "      <td>0</td>\n",
       "      <td>[113, 122, 114, 19732, 28469, 10375, 22293, 10...</td>\n",
       "      <td>[512, 12265, 542, 48372, 10674, 13568, 14622, ...</td>\n",
       "      <td>None</td>\n",
       "      <td>(245, 251)</td>\n",
       "    </tr>\n",
       "    <tr>\n",
       "      <th>3</th>\n",
       "      <td>3</td>\n",
       "      <td>0</td>\n",
       "      <td>11</td>\n",
       "      <td>(1) Но люди не могут существовать без природы,...</td>\n",
       "      <td>1</td>\n",
       "      <td>Почему Люда ударила Артема?</td>\n",
       "      <td>3</td>\n",
       "      <td>Он к ней приставал.</td>\n",
       "      <td>1</td>\n",
       "      <td>[113, 122, 114, 19732, 28469, 10375, 22293, 10...</td>\n",
       "      <td>[11480, 96506, 520, 94811, 57514, 16610, 509, ...</td>\n",
       "      <td>(248, 257)</td>\n",
       "      <td>None</td>\n",
       "    </tr>\n",
       "    <tr>\n",
       "      <th>4</th>\n",
       "      <td>4</td>\n",
       "      <td>0</td>\n",
       "      <td>11</td>\n",
       "      <td>(1) Но люди не могут существовать без природы,...</td>\n",
       "      <td>1</td>\n",
       "      <td>Почему Люда ударила Артема?</td>\n",
       "      <td>4</td>\n",
       "      <td>Он ее оскорбил.</td>\n",
       "      <td>0</td>\n",
       "      <td>[113, 122, 114, 19732, 28469, 10375, 22293, 10...</td>\n",
       "      <td>[11480, 96506, 520, 94811, 57514, 16610, 509, ...</td>\n",
       "      <td>None</td>\n",
       "      <td>(340, 348)</td>\n",
       "    </tr>\n",
       "  </tbody>\n",
       "</table>\n",
       "</div>"
      ],
      "text/plain": [
       "   Unnamed: 0  id  num_sentences  \\\n",
       "0           0   0             11   \n",
       "1           1   0             11   \n",
       "2           2   0             11   \n",
       "3           3   0             11   \n",
       "4           4   0             11   \n",
       "\n",
       "                                                text  q_id  \\\n",
       "0  (1) Но люди не могут существовать без природы,...     0   \n",
       "1  (1) Но люди не могут существовать без природы,...     0   \n",
       "2  (1) Но люди не могут существовать без природы,...     0   \n",
       "3  (1) Но люди не могут существовать без природы,...     1   \n",
       "4  (1) Но люди не могут существовать без природы,...     1   \n",
       "\n",
       "                      question  a_id               answer  label  \\\n",
       "0            Где бегала шпана?     0             В парке.      1   \n",
       "1            Где бегала шпана?     1              В лесу.      0   \n",
       "2            Где бегала шпана?     2      Около подъезда.      0   \n",
       "3  Почему Люда ударила Артема?     3  Он к ней приставал.      1   \n",
       "4  Почему Люда ударила Артема?     4      Он ее оскорбил.      0   \n",
       "\n",
       "                                      context_tokens  \\\n",
       "0  [113, 122, 114, 19732, 28469, 10375, 22293, 10...   \n",
       "1  [113, 122, 114, 19732, 28469, 10375, 22293, 10...   \n",
       "2  [113, 122, 114, 19732, 28469, 10375, 22293, 10...   \n",
       "3  [113, 122, 114, 19732, 28469, 10375, 22293, 10...   \n",
       "4  [113, 122, 114, 19732, 28469, 10375, 22293, 10...   \n",
       "\n",
       "                                     question_tokens correct_answer_tokens  \\\n",
       "0  [512, 12265, 542, 48372, 10674, 13568, 14622, ...              (12, 18)   \n",
       "1  [512, 12265, 542, 48372, 10674, 13568, 14622, ...                  None   \n",
       "2  [512, 12265, 542, 48372, 10674, 13568, 14622, ...                  None   \n",
       "3  [11480, 96506, 520, 94811, 57514, 16610, 509, ...            (248, 257)   \n",
       "4  [11480, 96506, 520, 94811, 57514, 16610, 509, ...                  None   \n",
       "\n",
       "  incorrect_answer_tokens  \n",
       "0                    None  \n",
       "1              (102, 108)  \n",
       "2              (245, 251)  \n",
       "3                    None  \n",
       "4              (340, 348)  "
      ]
     },
     "execution_count": 275,
     "metadata": {},
     "output_type": "execute_result"
    }
   ],
   "source": [
    "val_bert = mybert[\"validation\"].to_pandas()\n",
    "train_bert = mybert[\"train\"].to_pandas()\n",
    "train_bert.head()"
   ]
  },
  {
   "cell_type": "markdown",
   "metadata": {},
   "source": [
    "## Проверка работы токенизатора"
   ]
  },
  {
   "cell_type": "code",
   "execution_count": 276,
   "metadata": {},
   "outputs": [
    {
     "name": "stdout",
     "output_type": "stream",
     "text": [
      "Исходные данные:\n",
      "Вопрос: Почему Солженицына перевозили спецконвоем?\n",
      "Контекст: (1) Самый первый «остров» Архипелага возник в 1923 году на месте Соловецкого монастыря. (2) Затем появились ТОНы — тюрьмы особого назначения и этапы. (3) Люди попадали на Архипелаг разными способами: в вагон-заках, на баржах, пароходах и пешими этапами. (4) В тюрьмы арестованных доставляли в «воронках» — фургончиках чёрного цвета. (5) Роль портов Архипелага играли пересылки, временные лагеря, состоящие из палаток, землянок, бараков или участков земли под открытым небом. (6) На всех пересылках держать «политических» в узде помогали специально отобранные урки, или «социально близкие». (7) Солженицын побывал на пересылке Красная Пресня в 1945 году. (8) Эмигранты, крестьяне и «малые народы» перевозили красными эшелонами. (9) Чаще всего такие эшелоны останав­ливались на пустом месте, посреди степи или тайги, и осуждённые сами строили лагерь. (10) Особо важные заключённые, в основном учёные, перевозились спецконвоем. (11) Так перевозили и Солженицына. (12) Он назвался ядерным физиком, и после Красной Пресни его перевезли в Бутырки.\n",
      "Ответ: Так перевозили особо важных заключенных.\n",
      "--------------------------------------------------------------------------------\n",
      "После токенизации и поиска:\n",
      "Вопрос: Почему Солженицына перевозили спецконвоем?\n",
      "Контекст: ( 1 ) Самый первый « остров » Архипелага возник в 1923 году на месте Соловецкого монастыря. ( 2 ) Затем появились ТОНы [UNK] тюрьмы особого назначения и этапы. ( 3 ) Люди попадали на Архипелаг разными способами : в вагон - заках, на баржах, пароходах и пешими этапами. ( 4 ) В тюрьмы арестованных доставляли в « воронках » [UNK] фургончиках чёрного цвета. ( 5 ) Роль портов Архипелага играли пересылки, временные лагеря, состоящие из палаток, землянок, бараков или участков земли под открытым небом. ( 6 ) На всех пересылках держать « политических » в узде помогали специально отобранные урки, или « социально близкие ». ( 7 ) Солженицын побывал на пересылке Красная Пресня в 1945 году. ( 8 ) Эмигранты, крестьяне и « малые народы » перевозили красными эшелонами. ( 9 ) Чаще всего такие эшелоны останавливались на пустом месте, посреди степи или тайги, и осуждённые сами строили лагерь. ( 10 ) Особо важные заключённые, в основном учёные, перевозились спецконвоем. ( 11 ) Так перевозили и Солженицына. ( 12 ) Он назвался ядерным физиком, и после Красной Пресни его перевезли в Бутырки.\n",
      "Правильный ответ: ##жные заключённые, в основном учёные, перевозились с\n",
      "________________________________________________________________________________\n",
      "Исходные данные:\n",
      "Вопрос: Кто в ноябре подал иск в арбитраж?\n",
      "Контекст: (1) Сбербанк обратился в Арбитражный суд Санкт-Петербурга и Ленинградской области с иском о взыскании с компании «Юлмарт» более миллиарда рублей. (2) Об этом сообщается в картотеке арбитражных дел. (3) Заявление зарегистрировано 2 декабря. (4) Соответчиками по иску выступают «Юлмарт Девелопмент», «Юлмарт региональная сбытовая компания» и «Юлмарт продуктово-закупочная компания». (5) Дата рассмотрения не назначена. (6) В ноябре в арбитраж поступил иск о банкротстве «Юлмарт». (7) Его подал некий Олег Морозов, информация о котором не раскрывается. (8) Заседание суда назначено на 15 декабря 2016 года. (9) 11 ноября кипрский суд арестовал счета головной компании «Юлмарта». (10) Этому предшествовал конфликт между основными акционерами ретейлера. (11) В сентябре сообщалось, что совладельцы «Юлмарта» Алексей Никитин и Михаил Васинкевич подали в Международный арбитраж Лондона (LCIA) иск против своих партнеров по бизнесу — основных акционеров компании Дмитрия Костыгина и Августа Мейера. (12) Истцы требовали обязать своих партнеров выкупить доли в компании по определенной цене. (13) При этом ответчики считают, что она выше рыночной. (14) Компания «Юлмарт» — одна из лидеров российской интернет-торговли, занимающая четвертое место по объемам бизнеса в сегменте. (15) Оборот компании во втором квартале 2016 года вырос на 5,1 процента, до 10,3 миллиарда рублей (в первом полугодии показатель составил 20,7 миллиарда рублей). (16) В июне сообщалось, что компания прогнозирует по итогам 2016 года выручку на уровне одного миллиарда долларов.\n",
      "Ответ: Олег Морозов\\Морозов Олег, информация о котором не разглашается.\n",
      "--------------------------------------------------------------------------------\n",
      "После токенизации и поиска:\n",
      "Вопрос: Кто в ноябре подал иск в арбитраж?\n",
      "Контекст: ( 1 ) Сбербанк обратился в Арбитражный суд Санкт - Петербурга и Ленинградской области с иском о взыскании с компании « Юлмарт » более миллиарда рублей. ( 2 ) Об этом сообщается в картотеке арбитражных дел. ( 3 ) Заявление зарегистрировано 2 декабря. ( 4 ) Соответчиками по иску выступают « Юлмарт Девелопмент », « Юлмарт региональная сбытовая компания » и « Юлмарт продуктово - закупочная компания ». ( 5 ) Дата рассмотрения не назначена. ( 6 ) В ноябре в арбитраж поступил иск о банкротстве « Юлмарт ». ( 7 ) Его подал некий Олег Морозов, информация о котором не раскрывается. ( 8 ) Заседание суда назначено на 15 декабря 2016 года. ( 9 ) 11 ноября кипрский суд арестовал счета головной компании « Юлмарта ». ( 10 ) Этому предшествовал конфликт между основными акционерами ретейлера. ( 11 ) В сентябре сообщалось, что совладельцы « Юлмарта » Алексей Никитин и Михаил Васинкевич подали в Международный арбитраж Лондона ( LCIA ) иск против своих партнеров по бизнесу [UNK] основных акционеров компании Дмитрия Костыгина и Августа Мейера. ( 12 ) Истцы требовали обязать своих партнеров выкупить доли в компании по определенной цене. ( 13 ) При этом ответчики считают, что она выше рыночной. ( 14 ) Компания « Юлмарт » [UNK] одна из лидеров российской интернет - торговли, занимающая четвертое место по объемам бизнеса в сегменте. ( 15 ) Оборот компании во втором квартале 2016 года вырос на 5, 1 процента, до 10, 3 миллиарда рублей ( в первом полугодии показатель составил 20, 7 миллиарда рублей ). ( 16 ) В июне сообщалось, что компания прогнозирует по итогам 2016 года выручку на уровне одного миллиарда долларов.\n",
      "Правильный ответ: подал некий Олег Морозов, информация о котором не раскрывается. ( 8\n",
      "________________________________________________________________________________\n",
      "Исходные данные:\n",
      "Вопрос: Кто начал слепнуть?\n",
      "Контекст: (1)Стала она слепнуть. (2)Текст расплывается перед глазами, буквы не складываются одна к одной, прыгают и скачут, как кардиограмма. (3)Бывало со слуха уловишь хорошего поэта, тексты у него потребуешь, а прочитать не можешь. (4)Или еще лежишь в постели, утром глаза откроешь и думаешь: «Это уже все или еще темно». (5)Под это дело и разбежались все. (6)Пока журнал издавался — роились рядом, а тут ни звоночка. (7)Он был бедовый, без ISBN, в библиотеки не рассылался, но в Брянске его «неподцензурные» только и знали и несли свое щебетание не в Союз писателей России, а к ней. (8)Александра Фёдоровна и сама за поэтами бегала, одного из ментовки вытащила, второго — из психушки, третьего — из запоя. (9)Занимала деньги, ссорилась со своими домашними, выбивала денежку на гранты и стипендии. (10)А тут все разбежались и замолкли, как воробьи в мороз. (11)Первый номер провалился, да и второй тоже, если бы не расписание автобусных рейсов и пригородных электричек в приложении, которые анонсировало местное телевидение. (12)Разошлось в основном приложение, журнал не брали. (13)За десять лет она издала еще тридцать номеров журнала и двести книжек авторов, распродала крохи. (14)А потом в суде запретили журнал, потому что не оформила ничего, а название совпадало с другим, официально зарегистрированным изданием. (15)Тут ещё Александра Фёдоровна стала слепнуть, и разбежались все, осталась только Оленька, придёт вечером, уберется, сварит что-нибудь. (16)Стихи из Интернета почитает. (17)Александру Фёдоровну отпустит немного, глаза засверкают, румянец появится на щечках, планы пойдут: «Мы сделаем новый журнал, мы найдем новые деньги, мы убедим спонсоров». (18)Только куда там, старым долги не отдали, чуть квартиры не лишились, а Брянск город маленький, все про всех знают. (19)Оленька головой покачает, еще газеты местные ей попересказывает и пойдёт к себе домой поэтов обзванивать, чтобы они в гости к ней пришли, но куда уж им. (20)Они, поэты ее, бывшие питомцы, разлетелись теперь в теплые, хлебные края, теперь все в Москве, все в Петербурге, стихи читают, премии получают, в турнирах участвуют. (По В. Харченко)\n",
      "Ответ: Александра.\n",
      "--------------------------------------------------------------------------------\n",
      "После токенизации и поиска:\n",
      "Вопрос: Кто начал слепнуть?\n",
      "Контекст: ( 1 ) Стала она слепнуть. ( 2 ) Текст расплывается перед глазами, буквы не складываются одна к одной, прыгают и скачут, как кардиограмма. ( 3 ) Бывало со слуха уловишь хорошего поэта, тексты у него потребуешь, а прочитать не можешь. ( 4 ) Или еще лежишь в постели, утром глаза откроешь и думаешь : « Это уже все или еще темно ». ( 5 ) Под это дело и разбежались все. ( 6 ) Пока журнал издавался [UNK] роились рядом, а тут ни звоночка. ( 7 ) Он был бедовый, без ISBN, в библиотеки не рассылался, но в Брянске его « неподцензурные » только и знали и несли свое щебетание не в Союз писателей России, а к ней. ( 8 ) Александра Фёдоровна и сама за поэтами бегала, одного из ментовки вытащила, второго [UNK] из психушки, третьего [UNK] из запоя. ( 9 ) Занимала деньги, ссорилась со своими домашними, выбивала денежку на гранты и стипендии. ( 10 ) А тут все разбежались и замолкли, как воробьи в мороз. ( 11 ) Первый номер провалился, да и второй тоже, если бы не расписание автобусных рейсов и пригородных электричек в приложении, которые анонсировало местное телевидение. ( 12 ) Разошлось в основном приложение, журнал не брали. ( 13 ) За десять лет она издала еще тридцать номеров журнала и двести книжек авторов, распродала крохи. ( 14 ) А потом в суде запретили журнал, потому что не оформила ничего, а название совпадало с другим, официально зарегистрированным изданием. ( 15 ) Тут ещё Александра Фёдоровна стала слепнуть, и разбежались все, осталась только Оленька, придёт вечером, уберется, сварит что - нибудь. ( 16 ) Стихи из Интернета почитает. ( 17 ) Александру Фёдоровну отпустит немного, глаза засверкают, румянец появится на щечках, планы пойдут : « Мы сделаем новый журнал, мы найдем новые деньги, мы убедим спонсоров ». ( 18 ) Только куда там, старым долги не отдали, чуть квартиры не лишились, а Брянск город маленький, все про всех знают. ( 19 ) Оленька головой покачает, еще газеты местные ей попересказывает и пойдёт к себе домой поэтов обзванивать, чтобы они в гости к ней пришли, но куда уж им. ( 20 ) Они, поэты ее, бывшие питомцы, разлетелись теперь в теплые, хлебные края, теперь все в Москве, все в Петербурге, стихи читают, премии получают, в турнирах участвуют. ( По В. Харченко )\n",
      "Правильный ответ: ##у Фёдоровну\n",
      "________________________________________________________________________________\n"
     ]
    }
   ],
   "source": [
    "def print_context_and_answer(idx, df, show_correct=1):\n",
    "    # Преобразование строковых представлений токенов в списки целых чисел\n",
    "    question_tokens = ast.literal_eval(df.iloc[idx]['question_tokens'])\n",
    "    context_tokens = ast.literal_eval(df.iloc[idx]['context_tokens'])\n",
    "\n",
    "    answer = df.iloc[idx]['answer']\n",
    "    print('Исходные данные:')\n",
    "    print('Вопрос:', df.iloc[idx]['question'])\n",
    "    print('Контекст:', df.iloc[idx]['text'])\n",
    "    print('Ответ:', answer)\n",
    "\n",
    "    # Получение индексов начала и конца ответа\n",
    "    correct_answer_tokens = df.iloc[idx]['correct_answer_tokens']\n",
    "    incorrect_answer_tokens = df.iloc[idx]['incorrect_answer_tokens']\n",
    "\n",
    "    # Преобразование строковых представлений токенов в кортежи целых чисел, с проверкой на NaN\n",
    "    if isinstance(correct_answer_tokens, str) and not pd.isna(correct_answer_tokens):\n",
    "        correct_answer_tokens = ast.literal_eval(correct_answer_tokens)\n",
    "    else:\n",
    "        correct_answer_tokens = None\n",
    "    if isinstance(incorrect_answer_tokens, str) and not pd.isna(incorrect_answer_tokens):\n",
    "        incorrect_answer_tokens = ast.literal_eval(incorrect_answer_tokens)\n",
    "    else:\n",
    "        incorrect_answer_tokens = None\n",
    "\n",
    "    print('----'*20)\n",
    "    print('После токенизации и поиска:')\n",
    "\n",
    "    # Токенизированные версии\n",
    "    question_decoded = tokenizer.decode(question_tokens)\n",
    "    context_decoded = tokenizer.decode(context_tokens)\n",
    "\n",
    "    print('Вопрос:', question_decoded)\n",
    "    print('Контекст:', context_decoded)\n",
    "\n",
    "    # Декодирование выбранного ответа\n",
    "    if show_correct and correct_answer_tokens:\n",
    "        answer_toks = context_tokens[correct_answer_tokens[0]:correct_answer_tokens[1]]\n",
    "        answer_decoded = tokenizer.decode(answer_toks)\n",
    "        print('Правильный ответ:', answer_decoded)\n",
    "    elif not show_correct and incorrect_answer_tokens:\n",
    "        answer_toks = context_tokens[incorrect_answer_tokens[0]:incorrect_answer_tokens[1]]\n",
    "        answer_decoded = tokenizer.decode(answer_toks)\n",
    "        print('Неправильный ответ:', answer_decoded)\n",
    "    else:\n",
    "        print('None')\n",
    "    \n",
    "    print('____'*20)\n",
    "\n",
    "# Тестирование функции\n",
    "print_context_and_answer(0, val_bert)\n",
    "print_context_and_answer(10, val_bert)\n",
    "print_context_and_answer(20, val_bert)\n"
   ]
  },
  {
   "cell_type": "markdown",
   "metadata": {},
   "source": [
    "Результаты далеки от идеала, но часть совпадений все же имеется."
   ]
  },
  {
   "cell_type": "markdown",
   "metadata": {},
   "source": [
    "## Обучение модели и подбор параметров"
   ]
  },
  {
   "cell_type": "code",
   "execution_count": 277,
   "metadata": {},
   "outputs": [
    {
     "data": {
      "text/plain": [
       "'\\n# Создание и запуск Optuna study\\nstudy = optuna.create_study(direction=\\'minimize\\')\\nstudy.optimize(objective, n_trials=20)\\n\\n# Вывод лучших результатов\\nbest_trial = study.best_trial\\nprint(\"Результаты лучшего эксперимента:\")\\nprint(f\" Loss: {best_trial.value}\")\\nprint(f\" Accuracy: {best_trial.user_attrs[\\'accuracy\\']}\")\\nprint(f\" F1-score: {best_trial.user_attrs[\\'f1_score\\']}\")\\nprint(\"Гиперпараметры: \")\\nfor key, value in best_trial.params.items():\\n    print(f\"    {key}: {value}\")'"
      ]
     },
     "execution_count": 277,
     "metadata": {},
     "output_type": "execute_result"
    }
   ],
   "source": [
    "def calculate_f1_score(true_starts, true_ends, pred_starts, pred_ends):\n",
    "    #Функция для расчета F1-score\n",
    "    f1_scores = []\n",
    "    for true_start, true_end, pred_start, pred_end in zip(true_starts, true_ends, pred_starts, pred_ends):\n",
    "        common = set(range(true_start, true_end)).intersection(set(range(pred_start, pred_end)))\n",
    "        num_same = len(common)\n",
    "        if num_same == 0:\n",
    "            f1_scores.append(0)\n",
    "            continue\n",
    "        precision = 1.0 * num_same / (pred_end - pred_start)\n",
    "        recall = 1.0 * num_same / (true_end - true_start)\n",
    "        f1 = (2 * precision * recall) / (precision + recall)\n",
    "        f1_scores.append(f1)\n",
    "    return np.mean(f1_scores)\n",
    "\n",
    "def objective(trial):\n",
    "    #Проведем эксперименты для оптимизации гиперпараметров с использованием Optuna\n",
    "    device = torch.device('cuda' if torch.cuda.is_available() else 'cpu')\n",
    "\n",
    "    # Инициализация токенизатора и модели\n",
    "    tokenizer = AutoTokenizer.from_pretrained(\"distilbert-base-multilingual-cased\")\n",
    "    model = DistilBertForQuestionAnswering.from_pretrained(\"distilbert-base-multilingual-cased\")\n",
    "    model.to(device)\n",
    "\n",
    "    # Гиперпараметры для оптимизации\n",
    "    learning_rate = trial.suggest_loguniform('learning_rate', 1e-5, 5e-5)\n",
    "    batch_size = trial.suggest_categorical('batch_size', [16, 32])\n",
    "    epochs = trial.suggest_int('epochs', 5, 10)\n",
    "\n",
    "    # Токенизация и подготовка данных\n",
    "    val_texts = val['text'].tolist()\n",
    "    val_questions = val['question'].tolist()\n",
    "    train_encodings = tokenizer(val_texts, val_questions, truncation=True, padding='max_length', return_tensors='pt')\n",
    "    start_positions = [ast.literal_eval(tok_pos)[0] if isinstance(tok_pos, str) else 0 for tok_pos in val['correct_answer_tokens']]\n",
    "    end_positions = [ast.literal_eval(tok_pos)[1] if isinstance(tok_pos, str) else 0 for tok_pos in val['correct_answer_tokens']]\n",
    "    start_positions = torch.tensor(start_positions).to(device)\n",
    "    end_positions = torch.tensor(end_positions).to(device)\n",
    "    train_dataset = TensorDataset(train_encodings['input_ids'], train_encodings['attention_mask'], start_positions, end_positions)\n",
    "    train_loader = DataLoader(train_dataset, batch_size=batch_size, shuffle=True)\n",
    "\n",
    "    # Оптимизатор\n",
    "    optimizer = AdamW(model.parameters(), lr=learning_rate)\n",
    "\n",
    "    # Обучение модели и расчет метрик\n",
    "    model.train()\n",
    "    for epoch in range(epochs):\n",
    "        total_loss = 0\n",
    "        true_starts, true_ends, pred_starts, pred_ends = [], [], [], []\n",
    "        for batch in tqdm(train_loader, desc=f\"Epoch {epoch + 1}\", leave=False, disable=False):\n",
    "            batch = tuple(b.to(device) for b in batch)\n",
    "            inputs = {'input_ids': batch[0], 'attention_mask': batch[1], 'start_positions': batch[2], 'end_positions': batch[3]}\n",
    "            model.zero_grad()\n",
    "            outputs = model(**inputs)\n",
    "            loss = outputs.loss\n",
    "            loss.backward()\n",
    "            optimizer.step()\n",
    "            total_loss += loss.item()\n",
    "\n",
    "            # Сбор данных для метрик\n",
    "            with torch.no_grad():\n",
    "                outputs = model(**inputs)\n",
    "                pred_start = torch.argmax(outputs.start_logits, dim=1)\n",
    "                pred_end = torch.argmax(outputs.end_logits, dim=1)\n",
    "\n",
    "            true_starts.extend(inputs['start_positions'].tolist())\n",
    "            true_ends.extend(inputs['end_positions'].tolist())\n",
    "            pred_starts.extend(pred_start.tolist())\n",
    "            pred_ends.extend(pred_end.tolist())\n",
    "\n",
    "        # Расчет метрик\n",
    "        accuracy = accuracy_score(true_starts, pred_starts) * accuracy_score(true_ends, pred_ends)\n",
    "        f1 = calculate_f1_score(true_starts, true_ends, pred_starts, pred_ends)\n",
    "        avg_loss = total_loss / len(train_loader)\n",
    "        trial.report(accuracy, epoch)\n",
    "        trial.report(f1, epoch)\n",
    "\n",
    "        # Преждевременная остановка\n",
    "        if trial.should_prune():\n",
    "            raise optuna.exceptions.TrialPruned()\n",
    "\n",
    "    # Запись дополнительных метрик в атрибуты триала\n",
    "    trial.set_user_attr(\"accuracy\", accuracy)\n",
    "    trial.set_user_attr(\"f1_score\", f1)\n",
    "\n",
    "    return avg_loss\n",
    "\"\"\"\n",
    "# Создание и запуск Optuna study\n",
    "study = optuna.create_study(direction='minimize')\n",
    "study.optimize(objective, n_trials=20)\n",
    "\n",
    "# Вывод лучших результатов\n",
    "best_trial = study.best_trial\n",
    "print(\"Результаты лучшего эксперимента:\")\n",
    "print(f\" Loss: {best_trial.value}\")\n",
    "print(f\" Accuracy: {best_trial.user_attrs['accuracy']}\")\n",
    "print(f\" F1-score: {best_trial.user_attrs['f1_score']}\")\n",
    "print(\"Гиперпараметры: \")\n",
    "for key, value in best_trial.params.items():\n",
    "    print(f\"    {key}: {value}\")\"\"\""
   ]
  },
  {
   "cell_type": "markdown",
   "metadata": {},
   "source": [
    "Подбор гиперпараметров осуществлялся на GPU T4 в Kaggle. (https://www.kaggle.com/rvenie/model-train)\n",
    "\n",
    "В результате подбора с помощью Optun были определены следующие гиперпараметры как самые оптимальные:\n",
    "* learning_rate: 4.736839325048312e-05\n",
    "* batch_size: 16\n",
    "* epochs: 9"
   ]
  },
  {
   "cell_type": "markdown",
   "metadata": {},
   "source": [
    "## Обучаем на тренировочных данных"
   ]
  },
  {
   "cell_type": "code",
   "execution_count": 278,
   "metadata": {},
   "outputs": [
    {
     "data": {
      "text/plain": [
       "'\\n# Задаем значения гиперпараметров\\nlearning_rate = 4.736839325048312e-05\\nbatch_size = 16\\nepochs = 9\\n\\n# Загрузка модели и токенизатора\\ntokenizer = AutoTokenizer.from_pretrained(\"distilbert-base-multilingual-cased\")\\nmodel = DistilBertForQuestionAnswering.from_pretrained(\"distilbert-base-multilingual-cased\")\\ndevice = torch.device(\\'cuda\\' if torch.cuda.is_available() else \\'cpu\\')\\nmodel.to(device)\\n\\n# Токенизация и подготовка данных\\ntrain_texts = train_bert[\\'text\\'].tolist()\\ntrain_questions = train_bert[\\'question\\'].tolist()\\ntrain_encodings = tokenizer(train_texts, train_questions, truncation=True, padding=\\'max_length\\', return_tensors=\\'pt\\')\\nstart_positions = [ast.literal_eval(tok_pos)[0] if isinstance(tok_pos, str) else 0 for tok_pos in train_bert[\\'correct_answer_tokens\\']]\\nend_positions = [ast.literal_eval(tok_pos)[1] if isinstance(tok_pos, str) else 0 for tok_pos in train_bert[\\'correct_answer_tokens\\']]\\nstart_positions = torch.tensor(start_positions).to(device)\\nend_positions = torch.tensor(end_positions).to(device)\\n\\n# Создание DataLoader\\ntrain_dataset = TensorDataset(train_encodings[\\'input_ids\\'], train_encodings[\\'attention_mask\\'], start_positions, end_positions)\\ntrain_loader = DataLoader(train_dataset, batch_size=batch_size, shuffle=True)\\n\\n# Оптимизатор\\noptimizer = AdamW(model.parameters(), lr=learning_rate)\\n\\n# Функция для расчета F1-score\\ndef calculate_f1_score(true_starts, true_ends, pred_starts, pred_ends):\\n    f1_scores = []\\n    for true_start, true_end, pred_start, pred_end in zip(true_starts, true_ends, pred_starts, pred_ends):\\n        common = set(range(true_start, true_end)).intersection(set(range(pred_start, pred_end)))\\n        num_same = len(common)\\n        if num_same == 0:\\n            f1_scores.append(0)\\n            continue\\n        precision = 1.0 * num_same / (pred_end - pred_start)\\n        recall = 1.0 * num_same / (true_end - true_start)\\n        f1 = (2 * precision * recall) / (precision + recall)\\n        f1_scores.append(f1)\\n    return np.mean(f1_scores)\\n\\n# Обучение модели\\nmodel.train()\\nfor epoch in range(epochs):\\n    total_loss = 0\\n    true_starts, true_ends, pred_starts, pred_ends = [], [], [], []\\n    for batch in tqdm(train_loader, desc=f\"Epoch {epoch + 1}\", leave=False, disable=False):\\n        batch = tuple(b.to(device) for b in batch)\\n        inputs = {\\'input_ids\\': batch[0], \\'attention_mask\\': batch[1], \\'start_positions\\': batch[2], \\'end_positions\\': batch[3]}\\n        model.zero_grad()\\n        outputs = model(**inputs)\\n        loss = outputs.loss\\n        loss.backward()\\n        optimizer.step()\\n        total_loss += loss.item()\\n\\n        # Сбор данных для метрик\\n        with torch.no_grad():\\n            outputs = model(**inputs)\\n            pred_start = torch.argmax(outputs.start_logits, dim=1)\\n            pred_end = torch.argmax(outputs.end_logits, dim=1)\\n\\n        true_starts.extend(inputs[\\'start_positions\\'].cpu().tolist())\\n        true_ends.extend(inputs[\\'end_positions\\'].cpu().tolist())\\n        pred_starts.extend(pred_start.cpu().tolist())\\n        pred_ends.extend(pred_end.cpu().tolist())\\n\\n    # Расчет метрик\\n    accuracy = accuracy_score(true_starts, pred_starts) * accuracy_score(true_ends, pred_ends)\\n    f1 = calculate_f1_score(true_starts, true_ends, pred_starts, pred_ends)\\n    print(f\"Epoch {epoch + 1} completed, Avg Loss: {total_loss / len(train_loader)}, Accuracy: {accuracy}, F1-Score: {f1}\")'"
      ]
     },
     "execution_count": 278,
     "metadata": {},
     "output_type": "execute_result"
    }
   ],
   "source": [
    "\"\"\"\n",
    "# Задаем значения гиперпараметров\n",
    "learning_rate = 4.736839325048312e-05\n",
    "batch_size = 16\n",
    "epochs = 9\n",
    "\n",
    "# Загрузка модели и токенизатора\n",
    "tokenizer = AutoTokenizer.from_pretrained(\"distilbert-base-multilingual-cased\")\n",
    "model = DistilBertForQuestionAnswering.from_pretrained(\"distilbert-base-multilingual-cased\")\n",
    "device = torch.device('cuda' if torch.cuda.is_available() else 'cpu')\n",
    "model.to(device)\n",
    "\n",
    "# Токенизация и подготовка данных\n",
    "train_texts = train_bert['text'].tolist()\n",
    "train_questions = train_bert['question'].tolist()\n",
    "train_encodings = tokenizer(train_texts, train_questions, truncation=True, padding='max_length', return_tensors='pt')\n",
    "start_positions = [ast.literal_eval(tok_pos)[0] if isinstance(tok_pos, str) else 0 for tok_pos in train_bert['correct_answer_tokens']]\n",
    "end_positions = [ast.literal_eval(tok_pos)[1] if isinstance(tok_pos, str) else 0 for tok_pos in train_bert['correct_answer_tokens']]\n",
    "start_positions = torch.tensor(start_positions).to(device)\n",
    "end_positions = torch.tensor(end_positions).to(device)\n",
    "\n",
    "# Создание DataLoader\n",
    "train_dataset = TensorDataset(train_encodings['input_ids'], train_encodings['attention_mask'], start_positions, end_positions)\n",
    "train_loader = DataLoader(train_dataset, batch_size=batch_size, shuffle=True)\n",
    "\n",
    "# Оптимизатор\n",
    "optimizer = AdamW(model.parameters(), lr=learning_rate)\n",
    "\n",
    "# Функция для расчета F1-score\n",
    "def calculate_f1_score(true_starts, true_ends, pred_starts, pred_ends):\n",
    "    f1_scores = []\n",
    "    for true_start, true_end, pred_start, pred_end in zip(true_starts, true_ends, pred_starts, pred_ends):\n",
    "        common = set(range(true_start, true_end)).intersection(set(range(pred_start, pred_end)))\n",
    "        num_same = len(common)\n",
    "        if num_same == 0:\n",
    "            f1_scores.append(0)\n",
    "            continue\n",
    "        precision = 1.0 * num_same / (pred_end - pred_start)\n",
    "        recall = 1.0 * num_same / (true_end - true_start)\n",
    "        f1 = (2 * precision * recall) / (precision + recall)\n",
    "        f1_scores.append(f1)\n",
    "    return np.mean(f1_scores)\n",
    "\n",
    "# Обучение модели\n",
    "model.train()\n",
    "for epoch in range(epochs):\n",
    "    total_loss = 0\n",
    "    true_starts, true_ends, pred_starts, pred_ends = [], [], [], []\n",
    "    for batch in tqdm(train_loader, desc=f\"Epoch {epoch + 1}\", leave=False, disable=False):\n",
    "        batch = tuple(b.to(device) for b in batch)\n",
    "        inputs = {'input_ids': batch[0], 'attention_mask': batch[1], 'start_positions': batch[2], 'end_positions': batch[3]}\n",
    "        model.zero_grad()\n",
    "        outputs = model(**inputs)\n",
    "        loss = outputs.loss\n",
    "        loss.backward()\n",
    "        optimizer.step()\n",
    "        total_loss += loss.item()\n",
    "\n",
    "        # Сбор данных для метрик\n",
    "        with torch.no_grad():\n",
    "            outputs = model(**inputs)\n",
    "            pred_start = torch.argmax(outputs.start_logits, dim=1)\n",
    "            pred_end = torch.argmax(outputs.end_logits, dim=1)\n",
    "\n",
    "        true_starts.extend(inputs['start_positions'].cpu().tolist())\n",
    "        true_ends.extend(inputs['end_positions'].cpu().tolist())\n",
    "        pred_starts.extend(pred_start.cpu().tolist())\n",
    "        pred_ends.extend(pred_end.cpu().tolist())\n",
    "\n",
    "    # Расчет метрик\n",
    "    accuracy = accuracy_score(true_starts, pred_starts) * accuracy_score(true_ends, pred_ends)\n",
    "    f1 = calculate_f1_score(true_starts, true_ends, pred_starts, pred_ends)\n",
    "    print(f\"Epoch {epoch + 1} completed, Avg Loss: {total_loss / len(train_loader)}, Accuracy: {accuracy}, F1-Score: {f1}\")\"\"\""
   ]
  },
  {
   "cell_type": "markdown",
   "metadata": {},
   "source": [
    "**Обученная модель загружена в личный репозиторий на HuggingFace - https://huggingface.co/rvenie/test_bert**"
   ]
  },
  {
   "cell_type": "markdown",
   "metadata": {},
   "source": [
    "# Рубрика - эксперименты"
   ]
  },
  {
   "cell_type": "code",
   "execution_count": 279,
   "metadata": {},
   "outputs": [
    {
     "data": {
      "text/plain": [
       "DistilBertForQuestionAnswering(\n",
       "  (distilbert): DistilBertModel(\n",
       "    (embeddings): Embeddings(\n",
       "      (word_embeddings): Embedding(119547, 768, padding_idx=0)\n",
       "      (position_embeddings): Embedding(512, 768)\n",
       "      (LayerNorm): LayerNorm((768,), eps=1e-12, elementwise_affine=True)\n",
       "      (dropout): Dropout(p=0.1, inplace=False)\n",
       "    )\n",
       "    (transformer): Transformer(\n",
       "      (layer): ModuleList(\n",
       "        (0-5): 6 x TransformerBlock(\n",
       "          (attention): MultiHeadSelfAttention(\n",
       "            (dropout): Dropout(p=0.1, inplace=False)\n",
       "            (q_lin): Linear(in_features=768, out_features=768, bias=True)\n",
       "            (k_lin): Linear(in_features=768, out_features=768, bias=True)\n",
       "            (v_lin): Linear(in_features=768, out_features=768, bias=True)\n",
       "            (out_lin): Linear(in_features=768, out_features=768, bias=True)\n",
       "          )\n",
       "          (sa_layer_norm): LayerNorm((768,), eps=1e-12, elementwise_affine=True)\n",
       "          (ffn): FFN(\n",
       "            (dropout): Dropout(p=0.1, inplace=False)\n",
       "            (lin1): Linear(in_features=768, out_features=3072, bias=True)\n",
       "            (lin2): Linear(in_features=3072, out_features=768, bias=True)\n",
       "            (activation): GELUActivation()\n",
       "          )\n",
       "          (output_layer_norm): LayerNorm((768,), eps=1e-12, elementwise_affine=True)\n",
       "        )\n",
       "      )\n",
       "    )\n",
       "  )\n",
       "  (qa_outputs): Linear(in_features=768, out_features=2, bias=True)\n",
       "  (dropout): Dropout(p=0.1, inplace=False)\n",
       ")"
      ]
     },
     "execution_count": 279,
     "metadata": {},
     "output_type": "execute_result"
    }
   ],
   "source": [
    "model_path = \"rvenie/test_bert\"\n",
    "model = DistilBertForQuestionAnswering.from_pretrained(model_path)\n",
    "tokenizer = AutoTokenizer.from_pretrained(\"distilbert-base-multilingual-cased\")\n",
    "device = torch.device('cuda' if torch.cuda.is_available() else 'cpu')\n",
    "model.to(device)"
   ]
  },
  {
   "cell_type": "code",
   "execution_count": 280,
   "metadata": {},
   "outputs": [],
   "source": [
    "def answer_question(question, document_context=None):\n",
    "    # Определение контекста\n",
    "    if document_context and os.path.isfile(document_context):\n",
    "        with open(document_context, 'r', encoding='utf-8') as file:\n",
    "            context = file.read()\n",
    "    else:\n",
    "        context = document_context if document_context else question\n",
    "\n",
    "    # Токенизация вопроса и контекста\n",
    "    inputs = tokenizer.encode_plus(question, context, add_special_tokens=True, return_tensors=\"pt\")\n",
    "    inputs = {k: v.to(device) for k, v in inputs.items()}\n",
    "\n",
    "    # Получение предсказаний от модели\n",
    "    with torch.no_grad():\n",
    "        outputs = model(**inputs)\n",
    "    answer_start_scores, answer_end_scores = outputs.start_logits, outputs.end_logits\n",
    "\n",
    "    # Определение начала и конца ответа\n",
    "    answer_start = torch.argmax(answer_start_scores)\n",
    "    answer_end = torch.argmax(answer_end_scores) + 1\n",
    "\n",
    "    # Проверка на отсутствие ответа\n",
    "    if answer_end <= answer_start:\n",
    "        return \"Ответ не найден.\"\n",
    "\n",
    "    # Конвертация токенов в строку\n",
    "    answer_tokens = inputs['input_ids'][0][answer_start:answer_end]\n",
    "    answer = tokenizer.convert_tokens_to_string(tokenizer.convert_ids_to_tokens(answer_tokens))\n",
    "\n",
    "    return answer.strip()\n",
    "\n"
   ]
  },
  {
   "cell_type": "code",
   "execution_count": 281,
   "metadata": {},
   "outputs": [
    {
     "name": "stdout",
     "output_type": "stream",
     "text": [
      "[CLS]\n",
      "[CLS]\n"
     ]
    }
   ],
   "source": [
    "# Пример использования\n",
    "question = \"В каком году была основана Москва?\"\n",
    "document_text = \"Москва была основана в 12 веке.\"\n",
    "\n",
    "# Получение ответа без дополнительного контекста\n",
    "print(answer_question(question, document_text))\n",
    "question = \"Почему Люда ударила Артема?\"\n",
    "print(answer_question(question))\n",
    "\n"
   ]
  },
  {
   "cell_type": "markdown",
   "metadata": {},
   "source": [
    "### Вывод"
   ]
  },
  {
   "cell_type": "markdown",
   "metadata": {},
   "source": [
    "Метод разработанный выше не дает удовлетворительного результата и не решает поставленную задачу. Причина можеть быть как в алгоритме векторного поиска-подготовки датасета, так и в самом обучении модели. "
   ]
  },
  {
   "cell_type": "markdown",
   "metadata": {},
   "source": [
    "# LLM Kaggle"
   ]
  },
  {
   "cell_type": "markdown",
   "metadata": {},
   "source": [
    " В качестве альтернативного метода можно рассмотреть использование LLM - saiga. По скольку данный метод затратный для использования на ноутбуке его реализация перенесена на ресурс Kaggle - https://www.kaggle.com/code/rvenie/llm-proto"
   ]
  },
  {
   "cell_type": "markdown",
   "metadata": {},
   "source": [
    "# Общий вывод"
   ]
  },
  {
   "cell_type": "markdown",
   "metadata": {},
   "source": [
    "Перед нами была поставлена непростая задача по построению вопросно-ответной системы на основе датасета, содержащего только строковые данные. \n",
    "Был проведен разведывательный анализ данных в ходе которых мы определились с характером текста, содержающегося в данных, его особенностями. На основе полученных данных выбрана стратегия подготовки данных к обучению в модели, хорошо понимающей контекст предложений. \n",
    "\n",
    "Выбрана мультиязычная модель 'distilbert-base-multilingual-cased', так как данные содержат английский текст в том числе. При момощи методов векторного поиска найдены совпадения ответов в контексте. Определены начало и конец токенов ответов в контексте и записаны в отдельные поля. Новый датасет загружен на HuggingFace для удобства последующей работы с проектом. Произведен поиск и токенизация контекста, вопросов, ответов. Проведена субьективная проверка качества токенизации, которая показал неудовлетворительный результат. Предполагая, что на большем корпусе данных результат будет приемлемым решено было начать подбор параметров и обучение модели на новых данных силами GPU T4 на Kaggle. \n",
    "\n",
    "Работа файн-тюненной модели distilbert оказалсь неудовлетворительной. Для выполнения поставленной задачи с использованием только данных контекста в Kaggle реализована работа LLM-saiga, которая выполняет поставленную задачу, но нуждается в доработке с использованием GPU"
   ]
  }
 ],
 "metadata": {
  "kernelspec": {
   "display_name": "base",
   "language": "python",
   "name": "python3"
  },
  "language_info": {
   "codemirror_mode": {
    "name": "ipython",
    "version": 3
   },
   "file_extension": ".py",
   "mimetype": "text/x-python",
   "name": "python",
   "nbconvert_exporter": "python",
   "pygments_lexer": "ipython3",
   "version": "3.11.5"
  }
 },
 "nbformat": 4,
 "nbformat_minor": 2
}
